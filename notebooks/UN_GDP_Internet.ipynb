{
 "cells": [
  {
   "cell_type": "code",
   "execution_count": 1,
   "id": "1cf75003",
   "metadata": {},
   "outputs": [],
   "source": [
    "import pandas as pd\n",
    "import numpy as np\n",
    "import matplotlib.pyplot as plt\n",
    "import seaborn as sns"
   ]
  },
  {
   "cell_type": "code",
   "execution_count": 2,
   "id": "bcc55283",
   "metadata": {},
   "outputs": [],
   "source": [
    "%matplotlib inline"
   ]
  },
  {
   "cell_type": "code",
   "execution_count": 3,
   "id": "9978cf47",
   "metadata": {},
   "outputs": [],
   "source": [
    "gdp_df = pd.read_csv(\"../data/UNdata_gdp.csv\")"
   ]
  },
  {
   "cell_type": "code",
   "execution_count": 4,
   "id": "04563e1e",
   "metadata": {},
   "outputs": [
    {
     "data": {
      "text/html": [
       "<div>\n",
       "<style scoped>\n",
       "    .dataframe tbody tr th:only-of-type {\n",
       "        vertical-align: middle;\n",
       "    }\n",
       "\n",
       "    .dataframe tbody tr th {\n",
       "        vertical-align: top;\n",
       "    }\n",
       "\n",
       "    .dataframe thead th {\n",
       "        text-align: right;\n",
       "    }\n",
       "</style>\n",
       "<table border=\"1\" class=\"dataframe\">\n",
       "  <thead>\n",
       "    <tr style=\"text-align: right;\">\n",
       "      <th></th>\n",
       "      <th>Country or Area</th>\n",
       "      <th>Year</th>\n",
       "      <th>Value</th>\n",
       "      <th>Value Footnotes</th>\n",
       "    </tr>\n",
       "  </thead>\n",
       "  <tbody>\n",
       "    <tr>\n",
       "      <th>0</th>\n",
       "      <td>Afghanistan</td>\n",
       "      <td>2019</td>\n",
       "      <td>2065.036398</td>\n",
       "      <td>NaN</td>\n",
       "    </tr>\n",
       "    <tr>\n",
       "      <th>1</th>\n",
       "      <td>Afghanistan</td>\n",
       "      <td>2018</td>\n",
       "      <td>2033.779002</td>\n",
       "      <td>NaN</td>\n",
       "    </tr>\n",
       "    <tr>\n",
       "      <th>2</th>\n",
       "      <td>Afghanistan</td>\n",
       "      <td>2017</td>\n",
       "      <td>2058.383832</td>\n",
       "      <td>NaN</td>\n",
       "    </tr>\n",
       "    <tr>\n",
       "      <th>3</th>\n",
       "      <td>Afghanistan</td>\n",
       "      <td>2016</td>\n",
       "      <td>2057.062164</td>\n",
       "      <td>NaN</td>\n",
       "    </tr>\n",
       "    <tr>\n",
       "      <th>4</th>\n",
       "      <td>Afghanistan</td>\n",
       "      <td>2015</td>\n",
       "      <td>2068.265904</td>\n",
       "      <td>NaN</td>\n",
       "    </tr>\n",
       "  </tbody>\n",
       "</table>\n",
       "</div>"
      ],
      "text/plain": [
       "  Country or Area  Year        Value  Value Footnotes\n",
       "0     Afghanistan  2019  2065.036398              NaN\n",
       "1     Afghanistan  2018  2033.779002              NaN\n",
       "2     Afghanistan  2017  2058.383832              NaN\n",
       "3     Afghanistan  2016  2057.062164              NaN\n",
       "4     Afghanistan  2015  2068.265904              NaN"
      ]
     },
     "execution_count": 4,
     "metadata": {},
     "output_type": "execute_result"
    }
   ],
   "source": [
    "gdp_df.head()"
   ]
  },
  {
   "cell_type": "code",
   "execution_count": 5,
   "id": "8c5f5e10",
   "metadata": {},
   "outputs": [],
   "source": [
    "internet_df = pd.read_csv(\"../data/UNdata_internet.csv\",nrows=4496)"
   ]
  },
  {
   "cell_type": "markdown",
   "id": "02860e12",
   "metadata": {},
   "source": [
    "7. Look at the shape of each DataFrame - how many rows? How many columns?"
   ]
  },
  {
   "cell_type": "code",
   "execution_count": 6,
   "id": "a4db8fbe",
   "metadata": {},
   "outputs": [
    {
     "data": {
      "text/plain": [
       "(6870, 4)"
      ]
     },
     "execution_count": 6,
     "metadata": {},
     "output_type": "execute_result"
    }
   ],
   "source": [
    "gdp_df.shape"
   ]
  },
  {
   "cell_type": "markdown",
   "id": "6fa296d0",
   "metadata": {},
   "source": [
    "Answer: 6870 rows & 4 columns (Originally 4 columns becomes 3 due to dropping a column on Question 10 and updating my code for previous questions. Refer to past pushes in Github if needed.)"
   ]
  },
  {
   "cell_type": "code",
   "execution_count": 7,
   "id": "98f15652",
   "metadata": {},
   "outputs": [
    {
     "data": {
      "text/plain": [
       "(4496, 4)"
      ]
     },
     "execution_count": 7,
     "metadata": {},
     "output_type": "execute_result"
    }
   ],
   "source": [
    "internet_df.shape"
   ]
  },
  {
   "cell_type": "markdown",
   "id": "75a7b834",
   "metadata": {},
   "source": [
    "Answer: 4496 rows & 4 columns (Originally 4 columns becomes 3 due to dropping a column on Question 10 and updating my code for previous questions.Refer to past pushes in Github if needed.)"
   ]
  },
  {
   "cell_type": "markdown",
   "id": "901d192a",
   "metadata": {},
   "source": [
    "8. Take a look at the datatypes for the columns in each DataFrame."
   ]
  },
  {
   "cell_type": "code",
   "execution_count": 8,
   "id": "baef8330",
   "metadata": {},
   "outputs": [
    {
     "name": "stdout",
     "output_type": "stream",
     "text": [
      "Country or Area     object\n",
      "Year                object\n",
      "Value              float64\n",
      "Value Footnotes    float64\n",
      "dtype: object\n"
     ]
    }
   ],
   "source": [
    "print(gdp_df.dtypes)"
   ]
  },
  {
   "cell_type": "code",
   "execution_count": 9,
   "id": "53748939",
   "metadata": {},
   "outputs": [
    {
     "name": "stdout",
     "output_type": "stream",
     "text": [
      "Country or Area     object\n",
      "Year                object\n",
      "Value              float64\n",
      "Value Footnotes    float64\n",
      "dtype: object\n"
     ]
    }
   ],
   "source": [
    "print(internet_df.dtypes)"
   ]
  },
  {
   "cell_type": "markdown",
   "id": "fdf9833c",
   "metadata": {},
   "source": [
    "9.Take a look at the last 10 rows of each DataFrame in turn."
   ]
  },
  {
   "cell_type": "code",
   "execution_count": 10,
   "id": "75b00ad5",
   "metadata": {},
   "outputs": [
    {
     "name": "stdout",
     "output_type": "stream",
     "text": [
      "     Country or Area                                      Year        Value  \\\n",
      "6860        Zimbabwe                                      1997  3580.048793   \n",
      "6861        Zimbabwe                                      1996  3520.430146   \n",
      "6862        Zimbabwe                                      1995  3226.413930   \n",
      "6863        Zimbabwe                                      1994  3263.934978   \n",
      "6864        Zimbabwe                                      1993  3033.504852   \n",
      "6865        Zimbabwe                                      1992  3054.889178   \n",
      "6866        Zimbabwe                                      1991  3426.598094   \n",
      "6867        Zimbabwe                                      1990  3324.348171   \n",
      "6868   footnoteSeqID                                  Footnote          NaN   \n",
      "6869               2  Excludes South Sudan after July 9, 2011.          NaN   \n",
      "\n",
      "      Value Footnotes  \n",
      "6860              NaN  \n",
      "6861              NaN  \n",
      "6862              NaN  \n",
      "6863              NaN  \n",
      "6864              NaN  \n",
      "6865              NaN  \n",
      "6866              NaN  \n",
      "6867              NaN  \n",
      "6868              NaN  \n",
      "6869              NaN  \n"
     ]
    }
   ],
   "source": [
    "print(gdp_df[-10: ])"
   ]
  },
  {
   "cell_type": "code",
   "execution_count": 11,
   "id": "10affd04",
   "metadata": {},
   "outputs": [
    {
     "name": "stdout",
     "output_type": "stream",
     "text": [
      "     Country or Area      Year     Value  Value Footnotes\n",
      "4486        Zimbabwe      2001  0.799846              NaN\n",
      "4487        Zimbabwe      2000  0.401434              NaN\n",
      "4488        Zimbabwe      1999  0.161676              NaN\n",
      "4489        Zimbabwe      1998  0.081648              NaN\n",
      "4490        Zimbabwe      1997  0.033080              NaN\n",
      "4491        Zimbabwe      1996  0.016790              NaN\n",
      "4492        Zimbabwe      1995  0.007684              NaN\n",
      "4493        Zimbabwe      1994  0.001739              NaN\n",
      "4494        Zimbabwe      1990  0.000000              NaN\n",
      "4495   footnoteSeqID  Footnote       NaN              NaN\n"
     ]
    }
   ],
   "source": [
    "print(internet_df[-10: ])"
   ]
  },
  {
   "cell_type": "markdown",
   "id": "876a3870",
   "metadata": {},
   "source": [
    "10. Drop the value footnotes column from both DataFrames. Check that this worked as expected."
   ]
  },
  {
   "cell_type": "code",
   "execution_count": 12,
   "id": "9855740c",
   "metadata": {},
   "outputs": [],
   "source": [
    "gdp_df = gdp_df.drop(columns=['Value Footnotes'])\n",
    "\n",
    "\n"
   ]
  },
  {
   "cell_type": "code",
   "execution_count": 13,
   "id": "fce45d11",
   "metadata": {},
   "outputs": [
    {
     "data": {
      "text/plain": [
       "<bound method DataFrame.info of      Country or Area                                      Year        Value\n",
       "0        Afghanistan                                      2019  2065.036398\n",
       "1        Afghanistan                                      2018  2033.779002\n",
       "2        Afghanistan                                      2017  2058.383832\n",
       "3        Afghanistan                                      2016  2057.062164\n",
       "4        Afghanistan                                      2015  2068.265904\n",
       "...              ...                                       ...          ...\n",
       "6865        Zimbabwe                                      1992  3054.889178\n",
       "6866        Zimbabwe                                      1991  3426.598094\n",
       "6867        Zimbabwe                                      1990  3324.348171\n",
       "6868   footnoteSeqID                                  Footnote          NaN\n",
       "6869               2  Excludes South Sudan after July 9, 2011.          NaN\n",
       "\n",
       "[6870 rows x 3 columns]>"
      ]
     },
     "execution_count": 13,
     "metadata": {},
     "output_type": "execute_result"
    }
   ],
   "source": [
    "gdp_df.info"
   ]
  },
  {
   "cell_type": "code",
   "execution_count": 14,
   "id": "7859c298",
   "metadata": {},
   "outputs": [],
   "source": [
    "internet_df = internet_df.drop(columns=['Value Footnotes'])"
   ]
  },
  {
   "cell_type": "code",
   "execution_count": 15,
   "id": "5d5e0501",
   "metadata": {},
   "outputs": [
    {
     "name": "stdout",
     "output_type": "stream",
     "text": [
      "<class 'pandas.core.frame.DataFrame'>\n",
      "RangeIndex: 4496 entries, 0 to 4495\n",
      "Data columns (total 3 columns):\n",
      " #   Column           Non-Null Count  Dtype  \n",
      "---  ------           --------------  -----  \n",
      " 0   Country or Area  4496 non-null   object \n",
      " 1   Year             4496 non-null   object \n",
      " 2   Value            4495 non-null   float64\n",
      "dtypes: float64(1), object(2)\n",
      "memory usage: 105.5+ KB\n"
     ]
    }
   ],
   "source": [
    "internet_df.info()"
   ]
  },
  {
   "cell_type": "markdown",
   "id": "b5fe37a5",
   "metadata": {},
   "source": [
    "11. Change the columns for the GDP Per Capita DataFrame to ‘Country’, ‘Year’, and ‘GDP_Per_Capita’."
   ]
  },
  {
   "cell_type": "code",
   "execution_count": 16,
   "id": "e87e0adf",
   "metadata": {},
   "outputs": [],
   "source": [
    "gdp_df = gdp_df.rename(columns={'Country or Area': 'Country', 'Year':'Year', 'Value': 'GDP_Per_Capita'})"
   ]
  },
  {
   "cell_type": "code",
   "execution_count": 17,
   "id": "f73271f0",
   "metadata": {},
   "outputs": [
    {
     "name": "stdout",
     "output_type": "stream",
     "text": [
      "<class 'pandas.core.frame.DataFrame'>\n",
      "RangeIndex: 6870 entries, 0 to 6869\n",
      "Data columns (total 3 columns):\n",
      " #   Column          Non-Null Count  Dtype  \n",
      "---  ------          --------------  -----  \n",
      " 0   Country         6870 non-null   object \n",
      " 1   Year            6870 non-null   object \n",
      " 2   GDP_Per_Capita  6868 non-null   float64\n",
      "dtypes: float64(1), object(2)\n",
      "memory usage: 161.1+ KB\n"
     ]
    }
   ],
   "source": [
    "gdp_df.info()"
   ]
  },
  {
   "cell_type": "markdown",
   "id": "74cd8110",
   "metadata": {},
   "source": [
    "12. Change the columns for the Internet Users DataFrame to ‘Country’, ‘Year’, and ‘Internet_Users_Pct’."
   ]
  },
  {
   "cell_type": "code",
   "execution_count": 18,
   "id": "1b7a6a7f",
   "metadata": {},
   "outputs": [],
   "source": [
    "internet_df = internet_df.rename(columns={'Country or Area': 'Country', 'Year':'Year', 'Value': 'Internet_Users_Pct'})"
   ]
  },
  {
   "cell_type": "code",
   "execution_count": 19,
   "id": "8b2b06f6",
   "metadata": {},
   "outputs": [
    {
     "name": "stdout",
     "output_type": "stream",
     "text": [
      "<class 'pandas.core.frame.DataFrame'>\n",
      "RangeIndex: 4496 entries, 0 to 4495\n",
      "Data columns (total 3 columns):\n",
      " #   Column              Non-Null Count  Dtype  \n",
      "---  ------              --------------  -----  \n",
      " 0   Country             4496 non-null   object \n",
      " 1   Year                4496 non-null   object \n",
      " 2   Internet_Users_Pct  4495 non-null   float64\n",
      "dtypes: float64(1), object(2)\n",
      "memory usage: 105.5+ KB\n"
     ]
    }
   ],
   "source": [
    "internet_df.info()"
   ]
  },
  {
   "cell_type": "markdown",
   "id": "e1f8e413",
   "metadata": {},
   "source": [
    "13.Merge the two DataFrames to one. Merge all rows from each of the two DataFrames. Call the new DataFrame gdp_and_internet_use."
   ]
  },
  {
   "cell_type": "code",
   "execution_count": 20,
   "id": "e9a9125a",
   "metadata": {},
   "outputs": [],
   "source": [
    "gdp_and_internet_use = pd.merge(gdp_df,internet_df, on=['Country', 'Year'],how='outer')"
   ]
  },
  {
   "cell_type": "markdown",
   "id": "57806526",
   "metadata": {},
   "source": [
    "14. Look at the first five rows of your new DataFrame to confirm it merged correctly."
   ]
  },
  {
   "cell_type": "code",
   "execution_count": 21,
   "id": "b101d11a",
   "metadata": {},
   "outputs": [
    {
     "data": {
      "text/html": [
       "<div>\n",
       "<style scoped>\n",
       "    .dataframe tbody tr th:only-of-type {\n",
       "        vertical-align: middle;\n",
       "    }\n",
       "\n",
       "    .dataframe tbody tr th {\n",
       "        vertical-align: top;\n",
       "    }\n",
       "\n",
       "    .dataframe thead th {\n",
       "        text-align: right;\n",
       "    }\n",
       "</style>\n",
       "<table border=\"1\" class=\"dataframe\">\n",
       "  <thead>\n",
       "    <tr style=\"text-align: right;\">\n",
       "      <th></th>\n",
       "      <th>Country</th>\n",
       "      <th>Year</th>\n",
       "      <th>GDP_Per_Capita</th>\n",
       "      <th>Internet_Users_Pct</th>\n",
       "    </tr>\n",
       "  </thead>\n",
       "  <tbody>\n",
       "    <tr>\n",
       "      <th>0</th>\n",
       "      <td>Afghanistan</td>\n",
       "      <td>2019</td>\n",
       "      <td>2065.036398</td>\n",
       "      <td>NaN</td>\n",
       "    </tr>\n",
       "    <tr>\n",
       "      <th>1</th>\n",
       "      <td>Afghanistan</td>\n",
       "      <td>2018</td>\n",
       "      <td>2033.779002</td>\n",
       "      <td>NaN</td>\n",
       "    </tr>\n",
       "    <tr>\n",
       "      <th>2</th>\n",
       "      <td>Afghanistan</td>\n",
       "      <td>2017</td>\n",
       "      <td>2058.383832</td>\n",
       "      <td>NaN</td>\n",
       "    </tr>\n",
       "    <tr>\n",
       "      <th>3</th>\n",
       "      <td>Afghanistan</td>\n",
       "      <td>2016</td>\n",
       "      <td>2057.062164</td>\n",
       "      <td>NaN</td>\n",
       "    </tr>\n",
       "    <tr>\n",
       "      <th>4</th>\n",
       "      <td>Afghanistan</td>\n",
       "      <td>2015</td>\n",
       "      <td>2068.265904</td>\n",
       "      <td>NaN</td>\n",
       "    </tr>\n",
       "  </tbody>\n",
       "</table>\n",
       "</div>"
      ],
      "text/plain": [
       "       Country  Year  GDP_Per_Capita  Internet_Users_Pct\n",
       "0  Afghanistan  2019     2065.036398                 NaN\n",
       "1  Afghanistan  2018     2033.779002                 NaN\n",
       "2  Afghanistan  2017     2058.383832                 NaN\n",
       "3  Afghanistan  2016     2057.062164                 NaN\n",
       "4  Afghanistan  2015     2068.265904                 NaN"
      ]
     },
     "execution_count": 21,
     "metadata": {},
     "output_type": "execute_result"
    }
   ],
   "source": [
    "gdp_and_internet_use.head()"
   ]
  },
  {
   "cell_type": "markdown",
   "id": "c0dc5d1d",
   "metadata": {},
   "source": [
    "15. Look at the last five rows to make sure the data is clean and as expected."
   ]
  },
  {
   "cell_type": "code",
   "execution_count": 22,
   "id": "c66d9d24",
   "metadata": {},
   "outputs": [
    {
     "data": {
      "text/html": [
       "<div>\n",
       "<style scoped>\n",
       "    .dataframe tbody tr th:only-of-type {\n",
       "        vertical-align: middle;\n",
       "    }\n",
       "\n",
       "    .dataframe tbody tr th {\n",
       "        vertical-align: top;\n",
       "    }\n",
       "\n",
       "    .dataframe thead th {\n",
       "        text-align: right;\n",
       "    }\n",
       "</style>\n",
       "<table border=\"1\" class=\"dataframe\">\n",
       "  <thead>\n",
       "    <tr style=\"text-align: right;\">\n",
       "      <th></th>\n",
       "      <th>Country</th>\n",
       "      <th>Year</th>\n",
       "      <th>GDP_Per_Capita</th>\n",
       "      <th>Internet_Users_Pct</th>\n",
       "    </tr>\n",
       "  </thead>\n",
       "  <tbody>\n",
       "    <tr>\n",
       "      <th>7902</th>\n",
       "      <td>Yemen</td>\n",
       "      <td>1999</td>\n",
       "      <td>NaN</td>\n",
       "      <td>0.056629</td>\n",
       "    </tr>\n",
       "    <tr>\n",
       "      <th>7903</th>\n",
       "      <td>Yemen</td>\n",
       "      <td>1998</td>\n",
       "      <td>NaN</td>\n",
       "      <td>0.023323</td>\n",
       "    </tr>\n",
       "    <tr>\n",
       "      <th>7904</th>\n",
       "      <td>Yemen</td>\n",
       "      <td>1997</td>\n",
       "      <td>NaN</td>\n",
       "      <td>0.015025</td>\n",
       "    </tr>\n",
       "    <tr>\n",
       "      <th>7905</th>\n",
       "      <td>Yemen</td>\n",
       "      <td>1996</td>\n",
       "      <td>NaN</td>\n",
       "      <td>0.000621</td>\n",
       "    </tr>\n",
       "    <tr>\n",
       "      <th>7906</th>\n",
       "      <td>Yemen</td>\n",
       "      <td>1990</td>\n",
       "      <td>NaN</td>\n",
       "      <td>0.000000</td>\n",
       "    </tr>\n",
       "  </tbody>\n",
       "</table>\n",
       "</div>"
      ],
      "text/plain": [
       "     Country  Year  GDP_Per_Capita  Internet_Users_Pct\n",
       "7902   Yemen  1999             NaN            0.056629\n",
       "7903   Yemen  1998             NaN            0.023323\n",
       "7904   Yemen  1997             NaN            0.015025\n",
       "7905   Yemen  1996             NaN            0.000621\n",
       "7906   Yemen  1990             NaN            0.000000"
      ]
     },
     "execution_count": 22,
     "metadata": {},
     "output_type": "execute_result"
    }
   ],
   "source": [
    "gdp_and_internet_use.tail()"
   ]
  },
  {
   "cell_type": "markdown",
   "id": "1fca23cd",
   "metadata": {},
   "source": [
    "16. Subset the combined DataFrame to keep only the data for 2004, 2009, and 2014. Check that this happened correctly."
   ]
  },
  {
   "cell_type": "code",
   "execution_count": 23,
   "id": "abddee88",
   "metadata": {},
   "outputs": [
    {
     "name": "stdout",
     "output_type": "stream",
     "text": [
      "                    Country  Year  GDP_Per_Capita  Internet_Users_Pct\n",
      "5               Afghanistan  2014     2102.385234            6.390000\n",
      "10              Afghanistan  2009     1758.904043            3.550000\n",
      "15              Afghanistan  2004     1200.278256            0.105809\n",
      "23                  Albania  2014    11623.866679           60.100000\n",
      "28                  Albania  2009    10346.864199           41.200000\n",
      "...                     ...   ...             ...                 ...\n",
      "7870  Virgin Islands (U.S.)  2009             NaN           27.396510\n",
      "7875  Virgin Islands (U.S.)  2004             NaN           27.377009\n",
      "7887                  Yemen  2014             NaN           22.550000\n",
      "7892                  Yemen  2009             NaN            9.960000\n",
      "7897                  Yemen  2004             NaN            0.881223\n",
      "\n",
      "[830 rows x 4 columns]\n"
     ]
    }
   ],
   "source": [
    "years_df = gdp_and_internet_use[gdp_and_internet_use['Year'].isin(['2004', '2009', '2014'])]\n",
    "print(years_df)\n"
   ]
  },
  {
   "cell_type": "markdown",
   "id": "b5797f3c",
   "metadata": {},
   "source": [
    "17.Create three new DataFrames, one for 2004, one for 2009, and one for 2014. Give them meaningful names that aren't too long."
   ]
  },
  {
   "cell_type": "code",
   "execution_count": 24,
   "id": "93d55e00",
   "metadata": {},
   "outputs": [],
   "source": [
    "gdp_internet_04 = gdp_and_internet_use[gdp_and_internet_use['Year'] =='2004']\n",
    "gdp_internet_09 = gdp_and_internet_use[gdp_and_internet_use['Year'] =='2009']\n",
    "gdp_internet_14 = gdp_and_internet_use[gdp_and_internet_use['Year'] =='2014']\n"
   ]
  },
  {
   "cell_type": "code",
   "execution_count": 25,
   "id": "7651df19",
   "metadata": {},
   "outputs": [
    {
     "name": "stdout",
     "output_type": "stream",
     "text": [
      "                    Country  Year  GDP_Per_Capita  Internet_Users_Pct\n",
      "15              Afghanistan  2004     1200.278256            0.105809\n",
      "33                  Albania  2004     7604.838002            2.420388\n",
      "63                  Algeria  2004    10058.435939            4.634475\n",
      "93                   Angola  2004     5593.241537            0.464815\n",
      "123     Antigua and Barbuda  2004    18745.681534           24.266544\n",
      "...                     ...   ...             ...                 ...\n",
      "7773     T.F.Y.R. Macedonia  2004             NaN           24.440000\n",
      "7831              Venezuela  2004             NaN            8.404470\n",
      "7855               Viet Nam  2004             NaN            7.642409\n",
      "7875  Virgin Islands (U.S.)  2004             NaN           27.377009\n",
      "7897                  Yemen  2004             NaN            0.881223\n",
      "\n",
      "[276 rows x 4 columns]\n",
      "                    Country  Year  GDP_Per_Capita  Internet_Users_Pct\n",
      "10              Afghanistan  2009     1758.904043             3.55000\n",
      "28                  Albania  2009    10346.864199            41.20000\n",
      "58                  Algeria  2009    10782.361398            11.23000\n",
      "88                   Angola  2009     7643.493749             6.00000\n",
      "118     Antigua and Barbuda  2009    20046.839017            42.00000\n",
      "...                     ...   ...             ...                 ...\n",
      "7768     T.F.Y.R. Macedonia  2009             NaN            51.77000\n",
      "7826              Venezuela  2009             NaN            32.70000\n",
      "7850               Viet Nam  2009             NaN            26.55000\n",
      "7870  Virgin Islands (U.S.)  2009             NaN            27.39651\n",
      "7892                  Yemen  2009             NaN             9.96000\n",
      "\n",
      "[277 rows x 4 columns]\n",
      "                    Country  Year  GDP_Per_Capita  Internet_Users_Pct\n",
      "5               Afghanistan  2014     2102.385234                6.39\n",
      "23                  Albania  2014    11623.866679               60.10\n",
      "53                  Algeria  2014    11512.705405               18.09\n",
      "83                   Angola  2014     8239.828837               21.26\n",
      "113     Antigua and Barbuda  2014    18104.241470               64.00\n",
      "...                     ...   ...             ...                 ...\n",
      "7763     T.F.Y.R. Macedonia  2014             NaN               68.06\n",
      "7821              Venezuela  2014             NaN               57.00\n",
      "7845               Viet Nam  2014             NaN               48.31\n",
      "7865  Virgin Islands (U.S.)  2014             NaN               50.07\n",
      "7887                  Yemen  2014             NaN               22.55\n",
      "\n",
      "[277 rows x 4 columns]\n"
     ]
    }
   ],
   "source": [
    "print(gdp_internet_04)\n",
    "print(gdp_internet_09)\n",
    "print(gdp_internet_14)"
   ]
  },
  {
   "cell_type": "markdown",
   "id": "b99a9b18",
   "metadata": {},
   "source": [
    "18. Which country had the highest percentage of internet users in 2014? What was the percentage? (Try typing the first 3 letters of your DataFrame name and hitting the tab key for auto-complete options)."
   ]
  },
  {
   "cell_type": "code",
   "execution_count": 26,
   "id": "4637e5c2",
   "metadata": {},
   "outputs": [
    {
     "data": {
      "text/html": [
       "<div>\n",
       "<style scoped>\n",
       "    .dataframe tbody tr th:only-of-type {\n",
       "        vertical-align: middle;\n",
       "    }\n",
       "\n",
       "    .dataframe tbody tr th {\n",
       "        vertical-align: top;\n",
       "    }\n",
       "\n",
       "    .dataframe thead th {\n",
       "        text-align: right;\n",
       "    }\n",
       "</style>\n",
       "<table border=\"1\" class=\"dataframe\">\n",
       "  <thead>\n",
       "    <tr style=\"text-align: right;\">\n",
       "      <th></th>\n",
       "      <th>Country</th>\n",
       "      <th>Year</th>\n",
       "      <th>GDP_Per_Capita</th>\n",
       "      <th>Internet_Users_Pct</th>\n",
       "    </tr>\n",
       "  </thead>\n",
       "  <tbody>\n",
       "    <tr>\n",
       "      <th>2625</th>\n",
       "      <td>Iceland</td>\n",
       "      <td>2014</td>\n",
       "      <td>49652.149500</td>\n",
       "      <td>98.16</td>\n",
       "    </tr>\n",
       "    <tr>\n",
       "      <th>561</th>\n",
       "      <td>Bermuda</td>\n",
       "      <td>2014</td>\n",
       "      <td>77361.104881</td>\n",
       "      <td>96.80</td>\n",
       "    </tr>\n",
       "    <tr>\n",
       "      <th>4648</th>\n",
       "      <td>Norway</td>\n",
       "      <td>2014</td>\n",
       "      <td>62589.373548</td>\n",
       "      <td>96.30</td>\n",
       "    </tr>\n",
       "    <tr>\n",
       "      <th>1452</th>\n",
       "      <td>Denmark</td>\n",
       "      <td>2014</td>\n",
       "      <td>52214.537753</td>\n",
       "      <td>95.99</td>\n",
       "    </tr>\n",
       "    <tr>\n",
       "      <th>6873</th>\n",
       "      <td>Andorra</td>\n",
       "      <td>2014</td>\n",
       "      <td>NaN</td>\n",
       "      <td>95.90</td>\n",
       "    </tr>\n",
       "    <tr>\n",
       "      <th>...</th>\n",
       "      <td>...</td>\n",
       "      <td>...</td>\n",
       "      <td>...</td>\n",
       "      <td>...</td>\n",
       "    </tr>\n",
       "    <tr>\n",
       "      <th>6427</th>\n",
       "      <td>Tuvalu</td>\n",
       "      <td>2014</td>\n",
       "      <td>3450.793169</td>\n",
       "      <td>NaN</td>\n",
       "    </tr>\n",
       "    <tr>\n",
       "      <th>6607</th>\n",
       "      <td>Upper middle income</td>\n",
       "      <td>2014</td>\n",
       "      <td>14275.343977</td>\n",
       "      <td>NaN</td>\n",
       "    </tr>\n",
       "    <tr>\n",
       "      <th>6727</th>\n",
       "      <td>Vietnam</td>\n",
       "      <td>2014</td>\n",
       "      <td>6098.489609</td>\n",
       "      <td>NaN</td>\n",
       "    </tr>\n",
       "    <tr>\n",
       "      <th>6757</th>\n",
       "      <td>West Bank and Gaza</td>\n",
       "      <td>2014</td>\n",
       "      <td>5967.073437</td>\n",
       "      <td>NaN</td>\n",
       "    </tr>\n",
       "    <tr>\n",
       "      <th>6783</th>\n",
       "      <td>World</td>\n",
       "      <td>2014</td>\n",
       "      <td>15189.648507</td>\n",
       "      <td>NaN</td>\n",
       "    </tr>\n",
       "  </tbody>\n",
       "</table>\n",
       "<p>277 rows × 4 columns</p>\n",
       "</div>"
      ],
      "text/plain": [
       "                  Country  Year  GDP_Per_Capita  Internet_Users_Pct\n",
       "2625              Iceland  2014    49652.149500               98.16\n",
       "561               Bermuda  2014    77361.104881               96.80\n",
       "4648               Norway  2014    62589.373548               96.30\n",
       "1452              Denmark  2014    52214.537753               95.99\n",
       "6873              Andorra  2014             NaN               95.90\n",
       "...                   ...   ...             ...                 ...\n",
       "6427               Tuvalu  2014     3450.793169                 NaN\n",
       "6607  Upper middle income  2014    14275.343977                 NaN\n",
       "6727              Vietnam  2014     6098.489609                 NaN\n",
       "6757   West Bank and Gaza  2014     5967.073437                 NaN\n",
       "6783                World  2014    15189.648507                 NaN\n",
       "\n",
       "[277 rows x 4 columns]"
      ]
     },
     "execution_count": 26,
     "metadata": {},
     "output_type": "execute_result"
    }
   ],
   "source": [
    "gdp_internet_14.sort_values(by='Internet_Users_Pct', ascending=False)\n"
   ]
  },
  {
   "cell_type": "markdown",
   "id": "39895929",
   "metadata": {},
   "source": [
    "Alternative Method: print(gdp_int2014.nsmallest(n=1, columns=['Internet_Users_Pct']))\n"
   ]
  },
  {
   "cell_type": "markdown",
   "id": "9c4cd092",
   "metadata": {},
   "source": [
    "Answer: Iceland with a 98.16 percentage."
   ]
  },
  {
   "cell_type": "markdown",
   "id": "a228f9d9",
   "metadata": {},
   "source": [
    "19. Which country had the lowest percentage of internet users in 2014? What was the percentage?"
   ]
  },
  {
   "cell_type": "code",
   "execution_count": 27,
   "id": "4f4b0f7b",
   "metadata": {},
   "outputs": [
    {
     "data": {
      "text/html": [
       "<div>\n",
       "<style scoped>\n",
       "    .dataframe tbody tr th:only-of-type {\n",
       "        vertical-align: middle;\n",
       "    }\n",
       "\n",
       "    .dataframe tbody tr th {\n",
       "        vertical-align: top;\n",
       "    }\n",
       "\n",
       "    .dataframe thead th {\n",
       "        text-align: right;\n",
       "    }\n",
       "</style>\n",
       "<table border=\"1\" class=\"dataframe\">\n",
       "  <thead>\n",
       "    <tr style=\"text-align: right;\">\n",
       "      <th></th>\n",
       "      <th>Country</th>\n",
       "      <th>Year</th>\n",
       "      <th>GDP_Per_Capita</th>\n",
       "      <th>Internet_Users_Pct</th>\n",
       "    </tr>\n",
       "  </thead>\n",
       "  <tbody>\n",
       "    <tr>\n",
       "      <th>7081</th>\n",
       "      <td>Dem. People's Rep. of Korea</td>\n",
       "      <td>2014</td>\n",
       "      <td>NaN</td>\n",
       "      <td>0.00</td>\n",
       "    </tr>\n",
       "    <tr>\n",
       "      <th>7139</th>\n",
       "      <td>Eritrea</td>\n",
       "      <td>2014</td>\n",
       "      <td>NaN</td>\n",
       "      <td>0.99</td>\n",
       "    </tr>\n",
       "    <tr>\n",
       "      <th>6219</th>\n",
       "      <td>Timor-Leste</td>\n",
       "      <td>2014</td>\n",
       "      <td>3264.568070</td>\n",
       "      <td>1.14</td>\n",
       "    </tr>\n",
       "    <tr>\n",
       "      <th>827</th>\n",
       "      <td>Burundi</td>\n",
       "      <td>2014</td>\n",
       "      <td>886.235777</td>\n",
       "      <td>1.38</td>\n",
       "    </tr>\n",
       "    <tr>\n",
       "      <th>7676</th>\n",
       "      <td>Somalia</td>\n",
       "      <td>2014</td>\n",
       "      <td>NaN</td>\n",
       "      <td>1.63</td>\n",
       "    </tr>\n",
       "    <tr>\n",
       "      <th>...</th>\n",
       "      <td>...</td>\n",
       "      <td>...</td>\n",
       "      <td>...</td>\n",
       "      <td>...</td>\n",
       "    </tr>\n",
       "    <tr>\n",
       "      <th>6427</th>\n",
       "      <td>Tuvalu</td>\n",
       "      <td>2014</td>\n",
       "      <td>3450.793169</td>\n",
       "      <td>NaN</td>\n",
       "    </tr>\n",
       "    <tr>\n",
       "      <th>6607</th>\n",
       "      <td>Upper middle income</td>\n",
       "      <td>2014</td>\n",
       "      <td>14275.343977</td>\n",
       "      <td>NaN</td>\n",
       "    </tr>\n",
       "    <tr>\n",
       "      <th>6727</th>\n",
       "      <td>Vietnam</td>\n",
       "      <td>2014</td>\n",
       "      <td>6098.489609</td>\n",
       "      <td>NaN</td>\n",
       "    </tr>\n",
       "    <tr>\n",
       "      <th>6757</th>\n",
       "      <td>West Bank and Gaza</td>\n",
       "      <td>2014</td>\n",
       "      <td>5967.073437</td>\n",
       "      <td>NaN</td>\n",
       "    </tr>\n",
       "    <tr>\n",
       "      <th>6783</th>\n",
       "      <td>World</td>\n",
       "      <td>2014</td>\n",
       "      <td>15189.648507</td>\n",
       "      <td>NaN</td>\n",
       "    </tr>\n",
       "  </tbody>\n",
       "</table>\n",
       "<p>277 rows × 4 columns</p>\n",
       "</div>"
      ],
      "text/plain": [
       "                          Country  Year  GDP_Per_Capita  Internet_Users_Pct\n",
       "7081  Dem. People's Rep. of Korea  2014             NaN                0.00\n",
       "7139                      Eritrea  2014             NaN                0.99\n",
       "6219                  Timor-Leste  2014     3264.568070                1.14\n",
       "827                       Burundi  2014      886.235777                1.38\n",
       "7676                      Somalia  2014             NaN                1.63\n",
       "...                           ...   ...             ...                 ...\n",
       "6427                       Tuvalu  2014     3450.793169                 NaN\n",
       "6607          Upper middle income  2014    14275.343977                 NaN\n",
       "6727                      Vietnam  2014     6098.489609                 NaN\n",
       "6757           West Bank and Gaza  2014     5967.073437                 NaN\n",
       "6783                        World  2014    15189.648507                 NaN\n",
       "\n",
       "[277 rows x 4 columns]"
      ]
     },
     "execution_count": 27,
     "metadata": {},
     "output_type": "execute_result"
    }
   ],
   "source": [
    "gdp_internet_14.sort_values(by='Internet_Users_Pct', ascending=True)"
   ]
  },
  {
   "cell_type": "markdown",
   "id": "55cccf96",
   "metadata": {},
   "source": [
    "Answer: Dem. People's Rep. of Korea with a 0.00 percentage"
   ]
  },
  {
   "cell_type": "markdown",
   "id": "85c0b77d",
   "metadata": {},
   "source": [
    "20. Repeat for 2004 and 2009."
   ]
  },
  {
   "cell_type": "code",
   "execution_count": 28,
   "id": "028ad56e",
   "metadata": {},
   "outputs": [
    {
     "data": {
      "text/html": [
       "<div>\n",
       "<style scoped>\n",
       "    .dataframe tbody tr th:only-of-type {\n",
       "        vertical-align: middle;\n",
       "    }\n",
       "\n",
       "    .dataframe tbody tr th {\n",
       "        vertical-align: top;\n",
       "    }\n",
       "\n",
       "    .dataframe thead th {\n",
       "        text-align: right;\n",
       "    }\n",
       "</style>\n",
       "<table border=\"1\" class=\"dataframe\">\n",
       "  <thead>\n",
       "    <tr style=\"text-align: right;\">\n",
       "      <th></th>\n",
       "      <th>Country</th>\n",
       "      <th>Year</th>\n",
       "      <th>GDP_Per_Capita</th>\n",
       "      <th>Internet_Users_Pct</th>\n",
       "    </tr>\n",
       "  </thead>\n",
       "  <tbody>\n",
       "    <tr>\n",
       "      <th>6019</th>\n",
       "      <td>Sweden</td>\n",
       "      <td>2004</td>\n",
       "      <td>44496.023401</td>\n",
       "      <td>83.89</td>\n",
       "    </tr>\n",
       "    <tr>\n",
       "      <th>2635</th>\n",
       "      <td>Iceland</td>\n",
       "      <td>2004</td>\n",
       "      <td>45145.545658</td>\n",
       "      <td>83.88</td>\n",
       "    </tr>\n",
       "    <tr>\n",
       "      <th>1462</th>\n",
       "      <td>Denmark</td>\n",
       "      <td>2004</td>\n",
       "      <td>50607.628971</td>\n",
       "      <td>80.93</td>\n",
       "    </tr>\n",
       "    <tr>\n",
       "      <th>4658</th>\n",
       "      <td>Norway</td>\n",
       "      <td>2004</td>\n",
       "      <td>60893.410993</td>\n",
       "      <td>77.69</td>\n",
       "    </tr>\n",
       "    <tr>\n",
       "      <th>7402</th>\n",
       "      <td>Korea (Rep. of)</td>\n",
       "      <td>2004</td>\n",
       "      <td>NaN</td>\n",
       "      <td>72.70</td>\n",
       "    </tr>\n",
       "    <tr>\n",
       "      <th>...</th>\n",
       "      <td>...</td>\n",
       "      <td>...</td>\n",
       "      <td>...</td>\n",
       "      <td>...</td>\n",
       "    </tr>\n",
       "    <tr>\n",
       "      <th>6437</th>\n",
       "      <td>Tuvalu</td>\n",
       "      <td>2004</td>\n",
       "      <td>3336.952920</td>\n",
       "      <td>NaN</td>\n",
       "    </tr>\n",
       "    <tr>\n",
       "      <th>6617</th>\n",
       "      <td>Upper middle income</td>\n",
       "      <td>2004</td>\n",
       "      <td>8567.061394</td>\n",
       "      <td>NaN</td>\n",
       "    </tr>\n",
       "    <tr>\n",
       "      <th>6737</th>\n",
       "      <td>Vietnam</td>\n",
       "      <td>2004</td>\n",
       "      <td>3689.732423</td>\n",
       "      <td>NaN</td>\n",
       "    </tr>\n",
       "    <tr>\n",
       "      <th>6767</th>\n",
       "      <td>West Bank and Gaza</td>\n",
       "      <td>2004</td>\n",
       "      <td>4485.525458</td>\n",
       "      <td>NaN</td>\n",
       "    </tr>\n",
       "    <tr>\n",
       "      <th>6793</th>\n",
       "      <td>World</td>\n",
       "      <td>2004</td>\n",
       "      <td>12077.823821</td>\n",
       "      <td>NaN</td>\n",
       "    </tr>\n",
       "  </tbody>\n",
       "</table>\n",
       "<p>276 rows × 4 columns</p>\n",
       "</div>"
      ],
      "text/plain": [
       "                  Country  Year  GDP_Per_Capita  Internet_Users_Pct\n",
       "6019               Sweden  2004    44496.023401               83.89\n",
       "2635              Iceland  2004    45145.545658               83.88\n",
       "1462              Denmark  2004    50607.628971               80.93\n",
       "4658               Norway  2004    60893.410993               77.69\n",
       "7402      Korea (Rep. of)  2004             NaN               72.70\n",
       "...                   ...   ...             ...                 ...\n",
       "6437               Tuvalu  2004     3336.952920                 NaN\n",
       "6617  Upper middle income  2004     8567.061394                 NaN\n",
       "6737              Vietnam  2004     3689.732423                 NaN\n",
       "6767   West Bank and Gaza  2004     4485.525458                 NaN\n",
       "6793                World  2004    12077.823821                 NaN\n",
       "\n",
       "[276 rows x 4 columns]"
      ]
     },
     "execution_count": 28,
     "metadata": {},
     "output_type": "execute_result"
    }
   ],
   "source": [
    "gdp_internet_04.sort_values(by='Internet_Users_Pct', ascending=False)\n",
    "\n",
    "\n"
   ]
  },
  {
   "cell_type": "markdown",
   "id": "10447017",
   "metadata": {},
   "source": [
    "Sweden had the highest internet usage percentage in 2004 at 83.89"
   ]
  },
  {
   "cell_type": "code",
   "execution_count": 29,
   "id": "fc0990fa",
   "metadata": {},
   "outputs": [
    {
     "data": {
      "text/html": [
       "<div>\n",
       "<style scoped>\n",
       "    .dataframe tbody tr th:only-of-type {\n",
       "        vertical-align: middle;\n",
       "    }\n",
       "\n",
       "    .dataframe tbody tr th {\n",
       "        vertical-align: top;\n",
       "    }\n",
       "\n",
       "    .dataframe thead th {\n",
       "        text-align: right;\n",
       "    }\n",
       "</style>\n",
       "<table border=\"1\" class=\"dataframe\">\n",
       "  <thead>\n",
       "    <tr style=\"text-align: right;\">\n",
       "      <th></th>\n",
       "      <th>Country</th>\n",
       "      <th>Year</th>\n",
       "      <th>GDP_Per_Capita</th>\n",
       "      <th>Internet_Users_Pct</th>\n",
       "    </tr>\n",
       "  </thead>\n",
       "  <tbody>\n",
       "    <tr>\n",
       "      <th>7090</th>\n",
       "      <td>Dem. People's Rep. of Korea</td>\n",
       "      <td>2004</td>\n",
       "      <td>NaN</td>\n",
       "      <td>0.000000</td>\n",
       "    </tr>\n",
       "    <tr>\n",
       "      <th>4342</th>\n",
       "      <td>Myanmar</td>\n",
       "      <td>2004</td>\n",
       "      <td>1696.881760</td>\n",
       "      <td>0.024337</td>\n",
       "    </tr>\n",
       "    <tr>\n",
       "      <th>3545</th>\n",
       "      <td>Liberia</td>\n",
       "      <td>2004</td>\n",
       "      <td>1181.546158</td>\n",
       "      <td>0.031011</td>\n",
       "    </tr>\n",
       "    <tr>\n",
       "      <th>6079</th>\n",
       "      <td>Tajikistan</td>\n",
       "      <td>2004</td>\n",
       "      <td>1737.743630</td>\n",
       "      <td>0.077480</td>\n",
       "    </tr>\n",
       "    <tr>\n",
       "      <th>15</th>\n",
       "      <td>Afghanistan</td>\n",
       "      <td>2004</td>\n",
       "      <td>1200.278256</td>\n",
       "      <td>0.105809</td>\n",
       "    </tr>\n",
       "    <tr>\n",
       "      <th>...</th>\n",
       "      <td>...</td>\n",
       "      <td>...</td>\n",
       "      <td>...</td>\n",
       "      <td>...</td>\n",
       "    </tr>\n",
       "    <tr>\n",
       "      <th>6437</th>\n",
       "      <td>Tuvalu</td>\n",
       "      <td>2004</td>\n",
       "      <td>3336.952920</td>\n",
       "      <td>NaN</td>\n",
       "    </tr>\n",
       "    <tr>\n",
       "      <th>6617</th>\n",
       "      <td>Upper middle income</td>\n",
       "      <td>2004</td>\n",
       "      <td>8567.061394</td>\n",
       "      <td>NaN</td>\n",
       "    </tr>\n",
       "    <tr>\n",
       "      <th>6737</th>\n",
       "      <td>Vietnam</td>\n",
       "      <td>2004</td>\n",
       "      <td>3689.732423</td>\n",
       "      <td>NaN</td>\n",
       "    </tr>\n",
       "    <tr>\n",
       "      <th>6767</th>\n",
       "      <td>West Bank and Gaza</td>\n",
       "      <td>2004</td>\n",
       "      <td>4485.525458</td>\n",
       "      <td>NaN</td>\n",
       "    </tr>\n",
       "    <tr>\n",
       "      <th>6793</th>\n",
       "      <td>World</td>\n",
       "      <td>2004</td>\n",
       "      <td>12077.823821</td>\n",
       "      <td>NaN</td>\n",
       "    </tr>\n",
       "  </tbody>\n",
       "</table>\n",
       "<p>276 rows × 4 columns</p>\n",
       "</div>"
      ],
      "text/plain": [
       "                          Country  Year  GDP_Per_Capita  Internet_Users_Pct\n",
       "7090  Dem. People's Rep. of Korea  2004             NaN            0.000000\n",
       "4342                      Myanmar  2004     1696.881760            0.024337\n",
       "3545                      Liberia  2004     1181.546158            0.031011\n",
       "6079                   Tajikistan  2004     1737.743630            0.077480\n",
       "15                    Afghanistan  2004     1200.278256            0.105809\n",
       "...                           ...   ...             ...                 ...\n",
       "6437                       Tuvalu  2004     3336.952920                 NaN\n",
       "6617          Upper middle income  2004     8567.061394                 NaN\n",
       "6737                      Vietnam  2004     3689.732423                 NaN\n",
       "6767           West Bank and Gaza  2004     4485.525458                 NaN\n",
       "6793                        World  2004    12077.823821                 NaN\n",
       "\n",
       "[276 rows x 4 columns]"
      ]
     },
     "execution_count": 29,
     "metadata": {},
     "output_type": "execute_result"
    }
   ],
   "source": [
    "gdp_internet_04.sort_values(by='Internet_Users_Pct', ascending=True)"
   ]
  },
  {
   "cell_type": "markdown",
   "id": "0434804b",
   "metadata": {},
   "source": [
    "Dem. People's Rep. of Korea had the lowest internet usage percentage in 2004 at 0.000000"
   ]
  },
  {
   "cell_type": "code",
   "execution_count": 30,
   "id": "1d2c4707",
   "metadata": {},
   "outputs": [
    {
     "data": {
      "text/html": [
       "<div>\n",
       "<style scoped>\n",
       "    .dataframe tbody tr th:only-of-type {\n",
       "        vertical-align: middle;\n",
       "    }\n",
       "\n",
       "    .dataframe tbody tr th {\n",
       "        vertical-align: top;\n",
       "    }\n",
       "\n",
       "    .dataframe thead th {\n",
       "        text-align: right;\n",
       "    }\n",
       "</style>\n",
       "<table border=\"1\" class=\"dataframe\">\n",
       "  <thead>\n",
       "    <tr style=\"text-align: right;\">\n",
       "      <th></th>\n",
       "      <th>Country</th>\n",
       "      <th>Year</th>\n",
       "      <th>GDP_Per_Capita</th>\n",
       "      <th>Internet_Users_Pct</th>\n",
       "    </tr>\n",
       "  </thead>\n",
       "  <tbody>\n",
       "    <tr>\n",
       "      <th>2630</th>\n",
       "      <td>Iceland</td>\n",
       "      <td>2009</td>\n",
       "      <td>48177.084123</td>\n",
       "      <td>93.00</td>\n",
       "    </tr>\n",
       "    <tr>\n",
       "      <th>4653</th>\n",
       "      <td>Norway</td>\n",
       "      <td>2009</td>\n",
       "      <td>61886.564498</td>\n",
       "      <td>92.08</td>\n",
       "    </tr>\n",
       "    <tr>\n",
       "      <th>6014</th>\n",
       "      <td>Sweden</td>\n",
       "      <td>2009</td>\n",
       "      <td>45638.035577</td>\n",
       "      <td>91.00</td>\n",
       "    </tr>\n",
       "    <tr>\n",
       "      <th>4443</th>\n",
       "      <td>Netherlands</td>\n",
       "      <td>2009</td>\n",
       "      <td>51772.424928</td>\n",
       "      <td>89.63</td>\n",
       "    </tr>\n",
       "    <tr>\n",
       "      <th>3696</th>\n",
       "      <td>Luxembourg</td>\n",
       "      <td>2009</td>\n",
       "      <td>104932.811953</td>\n",
       "      <td>87.31</td>\n",
       "    </tr>\n",
       "    <tr>\n",
       "      <th>...</th>\n",
       "      <td>...</td>\n",
       "      <td>...</td>\n",
       "      <td>...</td>\n",
       "      <td>...</td>\n",
       "    </tr>\n",
       "    <tr>\n",
       "      <th>6194</th>\n",
       "      <td>The Gambia</td>\n",
       "      <td>2009</td>\n",
       "      <td>2283.183556</td>\n",
       "      <td>NaN</td>\n",
       "    </tr>\n",
       "    <tr>\n",
       "      <th>6612</th>\n",
       "      <td>Upper middle income</td>\n",
       "      <td>2009</td>\n",
       "      <td>11212.934078</td>\n",
       "      <td>NaN</td>\n",
       "    </tr>\n",
       "    <tr>\n",
       "      <th>6732</th>\n",
       "      <td>Vietnam</td>\n",
       "      <td>2009</td>\n",
       "      <td>4830.304958</td>\n",
       "      <td>NaN</td>\n",
       "    </tr>\n",
       "    <tr>\n",
       "      <th>6762</th>\n",
       "      <td>West Bank and Gaza</td>\n",
       "      <td>2009</td>\n",
       "      <td>5250.116075</td>\n",
       "      <td>NaN</td>\n",
       "    </tr>\n",
       "    <tr>\n",
       "      <th>6788</th>\n",
       "      <td>World</td>\n",
       "      <td>2009</td>\n",
       "      <td>13396.524163</td>\n",
       "      <td>NaN</td>\n",
       "    </tr>\n",
       "  </tbody>\n",
       "</table>\n",
       "<p>277 rows × 4 columns</p>\n",
       "</div>"
      ],
      "text/plain": [
       "                  Country  Year  GDP_Per_Capita  Internet_Users_Pct\n",
       "2630              Iceland  2009    48177.084123               93.00\n",
       "4653               Norway  2009    61886.564498               92.08\n",
       "6014               Sweden  2009    45638.035577               91.00\n",
       "4443          Netherlands  2009    51772.424928               89.63\n",
       "3696           Luxembourg  2009   104932.811953               87.31\n",
       "...                   ...   ...             ...                 ...\n",
       "6194           The Gambia  2009     2283.183556                 NaN\n",
       "6612  Upper middle income  2009    11212.934078                 NaN\n",
       "6732              Vietnam  2009     4830.304958                 NaN\n",
       "6762   West Bank and Gaza  2009     5250.116075                 NaN\n",
       "6788                World  2009    13396.524163                 NaN\n",
       "\n",
       "[277 rows x 4 columns]"
      ]
     },
     "execution_count": 30,
     "metadata": {},
     "output_type": "execute_result"
    }
   ],
   "source": [
    "gdp_internet_09.sort_values(by='Internet_Users_Pct', ascending=False)"
   ]
  },
  {
   "cell_type": "markdown",
   "id": "bbb54e2d",
   "metadata": {},
   "source": [
    "Iceland had the highest internet usage percentage in 2009 at 93.00"
   ]
  },
  {
   "cell_type": "code",
   "execution_count": 31,
   "id": "368df725",
   "metadata": {},
   "outputs": [
    {
     "data": {
      "text/html": [
       "<div>\n",
       "<style scoped>\n",
       "    .dataframe tbody tr th:only-of-type {\n",
       "        vertical-align: middle;\n",
       "    }\n",
       "\n",
       "    .dataframe tbody tr th {\n",
       "        vertical-align: top;\n",
       "    }\n",
       "\n",
       "    .dataframe thead th {\n",
       "        text-align: right;\n",
       "    }\n",
       "</style>\n",
       "<table border=\"1\" class=\"dataframe\">\n",
       "  <thead>\n",
       "    <tr style=\"text-align: right;\">\n",
       "      <th></th>\n",
       "      <th>Country</th>\n",
       "      <th>Year</th>\n",
       "      <th>GDP_Per_Capita</th>\n",
       "      <th>Internet_Users_Pct</th>\n",
       "    </tr>\n",
       "  </thead>\n",
       "  <tbody>\n",
       "    <tr>\n",
       "      <th>7085</th>\n",
       "      <td>Dem. People's Rep. of Korea</td>\n",
       "      <td>2009</td>\n",
       "      <td>NaN</td>\n",
       "      <td>0.000000</td>\n",
       "    </tr>\n",
       "    <tr>\n",
       "      <th>6224</th>\n",
       "      <td>Timor-Leste</td>\n",
       "      <td>2009</td>\n",
       "      <td>2724.770973</td>\n",
       "      <td>0.185252</td>\n",
       "    </tr>\n",
       "    <tr>\n",
       "      <th>4337</th>\n",
       "      <td>Myanmar</td>\n",
       "      <td>2009</td>\n",
       "      <td>2874.780227</td>\n",
       "      <td>0.220000</td>\n",
       "    </tr>\n",
       "    <tr>\n",
       "      <th>5439</th>\n",
       "      <td>Sierra Leone</td>\n",
       "      <td>2009</td>\n",
       "      <td>1372.392285</td>\n",
       "      <td>0.260000</td>\n",
       "    </tr>\n",
       "    <tr>\n",
       "      <th>922</th>\n",
       "      <td>Cambodia</td>\n",
       "      <td>2009</td>\n",
       "      <td>2603.583778</td>\n",
       "      <td>0.530000</td>\n",
       "    </tr>\n",
       "    <tr>\n",
       "      <th>...</th>\n",
       "      <td>...</td>\n",
       "      <td>...</td>\n",
       "      <td>...</td>\n",
       "      <td>...</td>\n",
       "    </tr>\n",
       "    <tr>\n",
       "      <th>6194</th>\n",
       "      <td>The Gambia</td>\n",
       "      <td>2009</td>\n",
       "      <td>2283.183556</td>\n",
       "      <td>NaN</td>\n",
       "    </tr>\n",
       "    <tr>\n",
       "      <th>6612</th>\n",
       "      <td>Upper middle income</td>\n",
       "      <td>2009</td>\n",
       "      <td>11212.934078</td>\n",
       "      <td>NaN</td>\n",
       "    </tr>\n",
       "    <tr>\n",
       "      <th>6732</th>\n",
       "      <td>Vietnam</td>\n",
       "      <td>2009</td>\n",
       "      <td>4830.304958</td>\n",
       "      <td>NaN</td>\n",
       "    </tr>\n",
       "    <tr>\n",
       "      <th>6762</th>\n",
       "      <td>West Bank and Gaza</td>\n",
       "      <td>2009</td>\n",
       "      <td>5250.116075</td>\n",
       "      <td>NaN</td>\n",
       "    </tr>\n",
       "    <tr>\n",
       "      <th>6788</th>\n",
       "      <td>World</td>\n",
       "      <td>2009</td>\n",
       "      <td>13396.524163</td>\n",
       "      <td>NaN</td>\n",
       "    </tr>\n",
       "  </tbody>\n",
       "</table>\n",
       "<p>277 rows × 4 columns</p>\n",
       "</div>"
      ],
      "text/plain": [
       "                          Country  Year  GDP_Per_Capita  Internet_Users_Pct\n",
       "7085  Dem. People's Rep. of Korea  2009             NaN            0.000000\n",
       "6224                  Timor-Leste  2009     2724.770973            0.185252\n",
       "4337                      Myanmar  2009     2874.780227            0.220000\n",
       "5439                 Sierra Leone  2009     1372.392285            0.260000\n",
       "922                      Cambodia  2009     2603.583778            0.530000\n",
       "...                           ...   ...             ...                 ...\n",
       "6194                   The Gambia  2009     2283.183556                 NaN\n",
       "6612          Upper middle income  2009    11212.934078                 NaN\n",
       "6732                      Vietnam  2009     4830.304958                 NaN\n",
       "6762           West Bank and Gaza  2009     5250.116075                 NaN\n",
       "6788                        World  2009    13396.524163                 NaN\n",
       "\n",
       "[277 rows x 4 columns]"
      ]
     },
     "execution_count": 31,
     "metadata": {},
     "output_type": "execute_result"
    }
   ],
   "source": [
    "gdp_internet_09.sort_values(by='Internet_Users_Pct', ascending=True)"
   ]
  },
  {
   "cell_type": "markdown",
   "id": "691c156d",
   "metadata": {},
   "source": [
    "Dem. People's Rep. of Korea had the lowest internet usage percentage in 2009 at 0.000000"
   ]
  },
  {
   "cell_type": "markdown",
   "id": "141bf3ad",
   "metadata": {},
   "source": [
    "21. Which country had the highest gdp per capita in 2014? What was the gdp per capita?"
   ]
  },
  {
   "cell_type": "code",
   "execution_count": 32,
   "id": "31a2e4c2",
   "metadata": {},
   "outputs": [
    {
     "data": {
      "text/html": [
       "<div>\n",
       "<style scoped>\n",
       "    .dataframe tbody tr th:only-of-type {\n",
       "        vertical-align: middle;\n",
       "    }\n",
       "\n",
       "    .dataframe tbody tr th {\n",
       "        vertical-align: top;\n",
       "    }\n",
       "\n",
       "    .dataframe thead th {\n",
       "        text-align: right;\n",
       "    }\n",
       "</style>\n",
       "<table border=\"1\" class=\"dataframe\">\n",
       "  <thead>\n",
       "    <tr style=\"text-align: right;\">\n",
       "      <th></th>\n",
       "      <th>Country</th>\n",
       "      <th>Year</th>\n",
       "      <th>GDP_Per_Capita</th>\n",
       "      <th>Internet_Users_Pct</th>\n",
       "    </tr>\n",
       "  </thead>\n",
       "  <tbody>\n",
       "    <tr>\n",
       "      <th>3721</th>\n",
       "      <td>Macao SAR, China</td>\n",
       "      <td>2014</td>\n",
       "      <td>156514.133850</td>\n",
       "      <td>NaN</td>\n",
       "    </tr>\n",
       "    <tr>\n",
       "      <th>3691</th>\n",
       "      <td>Luxembourg</td>\n",
       "      <td>2014</td>\n",
       "      <td>108760.916030</td>\n",
       "      <td>94.67</td>\n",
       "    </tr>\n",
       "    <tr>\n",
       "      <th>5138</th>\n",
       "      <td>Qatar</td>\n",
       "      <td>2014</td>\n",
       "      <td>95578.416973</td>\n",
       "      <td>91.49</td>\n",
       "    </tr>\n",
       "    <tr>\n",
       "      <th>5464</th>\n",
       "      <td>Singapore</td>\n",
       "      <td>2014</td>\n",
       "      <td>87808.663157</td>\n",
       "      <td>82.00</td>\n",
       "    </tr>\n",
       "    <tr>\n",
       "      <th>561</th>\n",
       "      <td>Bermuda</td>\n",
       "      <td>2014</td>\n",
       "      <td>77361.104881</td>\n",
       "      <td>96.80</td>\n",
       "    </tr>\n",
       "    <tr>\n",
       "      <th>...</th>\n",
       "      <td>...</td>\n",
       "      <td>...</td>\n",
       "      <td>...</td>\n",
       "      <td>...</td>\n",
       "    </tr>\n",
       "    <tr>\n",
       "      <th>7763</th>\n",
       "      <td>T.F.Y.R. Macedonia</td>\n",
       "      <td>2014</td>\n",
       "      <td>NaN</td>\n",
       "      <td>68.06</td>\n",
       "    </tr>\n",
       "    <tr>\n",
       "      <th>7821</th>\n",
       "      <td>Venezuela</td>\n",
       "      <td>2014</td>\n",
       "      <td>NaN</td>\n",
       "      <td>57.00</td>\n",
       "    </tr>\n",
       "    <tr>\n",
       "      <th>7845</th>\n",
       "      <td>Viet Nam</td>\n",
       "      <td>2014</td>\n",
       "      <td>NaN</td>\n",
       "      <td>48.31</td>\n",
       "    </tr>\n",
       "    <tr>\n",
       "      <th>7865</th>\n",
       "      <td>Virgin Islands (U.S.)</td>\n",
       "      <td>2014</td>\n",
       "      <td>NaN</td>\n",
       "      <td>50.07</td>\n",
       "    </tr>\n",
       "    <tr>\n",
       "      <th>7887</th>\n",
       "      <td>Yemen</td>\n",
       "      <td>2014</td>\n",
       "      <td>NaN</td>\n",
       "      <td>22.55</td>\n",
       "    </tr>\n",
       "  </tbody>\n",
       "</table>\n",
       "<p>277 rows × 4 columns</p>\n",
       "</div>"
      ],
      "text/plain": [
       "                    Country  Year  GDP_Per_Capita  Internet_Users_Pct\n",
       "3721       Macao SAR, China  2014   156514.133850                 NaN\n",
       "3691             Luxembourg  2014   108760.916030               94.67\n",
       "5138                  Qatar  2014    95578.416973               91.49\n",
       "5464              Singapore  2014    87808.663157               82.00\n",
       "561                 Bermuda  2014    77361.104881               96.80\n",
       "...                     ...   ...             ...                 ...\n",
       "7763     T.F.Y.R. Macedonia  2014             NaN               68.06\n",
       "7821              Venezuela  2014             NaN               57.00\n",
       "7845               Viet Nam  2014             NaN               48.31\n",
       "7865  Virgin Islands (U.S.)  2014             NaN               50.07\n",
       "7887                  Yemen  2014             NaN               22.55\n",
       "\n",
       "[277 rows x 4 columns]"
      ]
     },
     "execution_count": 32,
     "metadata": {},
     "output_type": "execute_result"
    }
   ],
   "source": [
    "gdp_internet_14.sort_values(by='GDP_Per_Capita', ascending=False)"
   ]
  },
  {
   "cell_type": "markdown",
   "id": "dbe47e18",
   "metadata": {},
   "source": [
    "Answer: Luxembourg with a GDP of 94.67"
   ]
  },
  {
   "cell_type": "markdown",
   "id": "0cee5e93",
   "metadata": {},
   "source": [
    "22. Which country had the lowest gdp per capita in 2014? What was the gdp per capita?"
   ]
  },
  {
   "cell_type": "code",
   "execution_count": 33,
   "id": "47f6e974",
   "metadata": {},
   "outputs": [
    {
     "data": {
      "text/html": [
       "<div>\n",
       "<style scoped>\n",
       "    .dataframe tbody tr th:only-of-type {\n",
       "        vertical-align: middle;\n",
       "    }\n",
       "\n",
       "    .dataframe tbody tr th {\n",
       "        vertical-align: top;\n",
       "    }\n",
       "\n",
       "    .dataframe thead th {\n",
       "        text-align: right;\n",
       "    }\n",
       "</style>\n",
       "<table border=\"1\" class=\"dataframe\">\n",
       "  <thead>\n",
       "    <tr style=\"text-align: right;\">\n",
       "      <th></th>\n",
       "      <th>Country</th>\n",
       "      <th>Year</th>\n",
       "      <th>GDP_Per_Capita</th>\n",
       "      <th>Internet_Users_Pct</th>\n",
       "    </tr>\n",
       "  </thead>\n",
       "  <tbody>\n",
       "    <tr>\n",
       "      <th>1047</th>\n",
       "      <td>Central African Republic</td>\n",
       "      <td>2014</td>\n",
       "      <td>822.610458</td>\n",
       "      <td>NaN</td>\n",
       "    </tr>\n",
       "    <tr>\n",
       "      <th>827</th>\n",
       "      <td>Burundi</td>\n",
       "      <td>2014</td>\n",
       "      <td>886.235777</td>\n",
       "      <td>1.38</td>\n",
       "    </tr>\n",
       "    <tr>\n",
       "      <th>3781</th>\n",
       "      <td>Malawi</td>\n",
       "      <td>2014</td>\n",
       "      <td>1027.208496</td>\n",
       "      <td>5.83</td>\n",
       "    </tr>\n",
       "    <tr>\n",
       "      <th>1422</th>\n",
       "      <td>Dem. Rep. Congo</td>\n",
       "      <td>2014</td>\n",
       "      <td>1029.790785</td>\n",
       "      <td>NaN</td>\n",
       "    </tr>\n",
       "    <tr>\n",
       "      <th>4528</th>\n",
       "      <td>Niger</td>\n",
       "      <td>2014</td>\n",
       "      <td>1127.615541</td>\n",
       "      <td>1.95</td>\n",
       "    </tr>\n",
       "    <tr>\n",
       "      <th>...</th>\n",
       "      <td>...</td>\n",
       "      <td>...</td>\n",
       "      <td>...</td>\n",
       "      <td>...</td>\n",
       "    </tr>\n",
       "    <tr>\n",
       "      <th>7763</th>\n",
       "      <td>T.F.Y.R. Macedonia</td>\n",
       "      <td>2014</td>\n",
       "      <td>NaN</td>\n",
       "      <td>68.06</td>\n",
       "    </tr>\n",
       "    <tr>\n",
       "      <th>7821</th>\n",
       "      <td>Venezuela</td>\n",
       "      <td>2014</td>\n",
       "      <td>NaN</td>\n",
       "      <td>57.00</td>\n",
       "    </tr>\n",
       "    <tr>\n",
       "      <th>7845</th>\n",
       "      <td>Viet Nam</td>\n",
       "      <td>2014</td>\n",
       "      <td>NaN</td>\n",
       "      <td>48.31</td>\n",
       "    </tr>\n",
       "    <tr>\n",
       "      <th>7865</th>\n",
       "      <td>Virgin Islands (U.S.)</td>\n",
       "      <td>2014</td>\n",
       "      <td>NaN</td>\n",
       "      <td>50.07</td>\n",
       "    </tr>\n",
       "    <tr>\n",
       "      <th>7887</th>\n",
       "      <td>Yemen</td>\n",
       "      <td>2014</td>\n",
       "      <td>NaN</td>\n",
       "      <td>22.55</td>\n",
       "    </tr>\n",
       "  </tbody>\n",
       "</table>\n",
       "<p>277 rows × 4 columns</p>\n",
       "</div>"
      ],
      "text/plain": [
       "                       Country  Year  GDP_Per_Capita  Internet_Users_Pct\n",
       "1047  Central African Republic  2014      822.610458                 NaN\n",
       "827                    Burundi  2014      886.235777                1.38\n",
       "3781                    Malawi  2014     1027.208496                5.83\n",
       "1422           Dem. Rep. Congo  2014     1029.790785                 NaN\n",
       "4528                     Niger  2014     1127.615541                1.95\n",
       "...                        ...   ...             ...                 ...\n",
       "7763        T.F.Y.R. Macedonia  2014             NaN               68.06\n",
       "7821                 Venezuela  2014             NaN               57.00\n",
       "7845                  Viet Nam  2014             NaN               48.31\n",
       "7865     Virgin Islands (U.S.)  2014             NaN               50.07\n",
       "7887                     Yemen  2014             NaN               22.55\n",
       "\n",
       "[277 rows x 4 columns]"
      ]
     },
     "execution_count": 33,
     "metadata": {},
     "output_type": "execute_result"
    }
   ],
   "source": [
    "gdp_internet_14.sort_values(by='GDP_Per_Capita', ascending=True)"
   ]
  },
  {
   "cell_type": "markdown",
   "id": "6028fd3b",
   "metadata": {},
   "source": [
    "Answer: Burundi with a GDP of 1.38"
   ]
  },
  {
   "cell_type": "markdown",
   "id": "c685af69",
   "metadata": {},
   "source": [
    "23. Create some scatterplots:\n",
    "a. 2004 Percent Using the Internet vs GDP Per Capita\n",
    "b. 2009 Percent Using the Internet vs GDP Per Capita\n",
    "c. 2014 Percent Using the Internet vs GDP Per Capita"
   ]
  },
  {
   "cell_type": "code",
   "execution_count": 34,
   "id": "c5de94a3",
   "metadata": {},
   "outputs": [
    {
     "data": {
      "image/png": "[encoded data removed]",
      "text/plain": [
       "<Figure size 432x288 with 1 Axes>"
      ]
     },
     "metadata": {
      "needs_background": "light"
     },
     "output_type": "display_data"
    }
   ],
   "source": [
    "plt.scatter(gdp_internet_04.Internet_Users_Pct, gdp_internet_04.GDP_Per_Capita)\n",
    "plt.ylabel('GDP Per Capita')\n",
    "plt.xlabel('Internet Usage Percentage')\n",
    "plt.show()"
   ]
  },
  {
   "cell_type": "code",
   "execution_count": 35,
   "id": "f87c205a",
   "metadata": {},
   "outputs": [
    {
     "data": {
      "image/png": "[encoded data removed]",
      "text/plain": [
       "<Figure size 432x288 with 1 Axes>"
      ]
     },
     "metadata": {
      "needs_background": "light"
     },
     "output_type": "display_data"
    }
   ],
   "source": [
    "plt.scatter(gdp_internet_09.Internet_Users_Pct, gdp_internet_09.GDP_Per_Capita)\n",
    "plt.ylabel('GDP Per Capita')\n",
    "plt.xlabel('Internet Usage Percentage')\n",
    "plt.show()"
   ]
  },
  {
   "cell_type": "code",
   "execution_count": 36,
   "id": "e1834e5d",
   "metadata": {},
   "outputs": [
    {
     "data": {
      "image/png": "[encoded data removed]",
      "text/plain": [
       "<Figure size 432x288 with 1 Axes>"
      ]
     },
     "metadata": {
      "needs_background": "light"
     },
     "output_type": "display_data"
    }
   ],
   "source": [
    "plt.scatter(gdp_internet_14.Internet_Users_Pct, gdp_internet_14.GDP_Per_Capita)\n",
    "plt.ylabel('GDP Per Capita')\n",
    "plt.xlabel('Internet Usage Percentage')\n",
    "plt.show()"
   ]
  },
  {
   "cell_type": "markdown",
   "id": "023bf051",
   "metadata": {},
   "source": [
    "24. Are there differences across years? What do the plots tell you about any relationship between these two variables? Enter your observations as a markdown cell."
   ]
  },
  {
   "cell_type": "markdown",
   "id": "32cf6d70",
   "metadata": {},
   "source": [
    "Answer: Internet usage percentage tends to increase over the years which means 2014 has the highest usage percentage and 2004 has the lowest. From the scatterplots you can see that countries with higher internet usage percentages tend to have higher GDP per capita."
   ]
  },
  {
   "cell_type": "markdown",
   "id": "0654d5a9",
   "metadata": {},
   "source": [
    "25. Look at the distribution of gdp per capita values for 2014. Is it unimodal?"
   ]
  },
  {
   "cell_type": "code",
   "execution_count": 37,
   "id": "cf9383f3",
   "metadata": {},
   "outputs": [
    {
     "data": {
      "image/png": "[encoded data removed]",
      "text/plain": [
       "<Figure size 432x288 with 1 Axes>"
      ]
     },
     "metadata": {
      "needs_background": "light"
     },
     "output_type": "display_data"
    }
   ],
   "source": [
    "plt.hist(gdp_internet_14.GDP_Per_Capita)\n",
    "plt.show()"
   ]
  },
  {
   "cell_type": "markdown",
   "id": "2c068222",
   "metadata": {},
   "source": [
    "Yes, this is unimodal"
   ]
  },
  {
   "cell_type": "markdown",
   "id": "561a9782",
   "metadata": {},
   "source": [
    "26. Look at the distribution of Internet Use for 2014. Is it unimodal?"
   ]
  },
  {
   "cell_type": "code",
   "execution_count": 38,
   "id": "13a139ab",
   "metadata": {},
   "outputs": [
    {
     "data": {
      "image/png": "[encoded data removed]",
      "text/plain": [
       "<Figure size 432x288 with 1 Axes>"
      ]
     },
     "metadata": {
      "needs_background": "light"
     },
     "output_type": "display_data"
    }
   ],
   "source": [
    "plt.hist(gdp_internet_14.Internet_Users_Pct)\n",
    "plt.show()"
   ]
  },
  {
   "cell_type": "markdown",
   "id": "c94bc3a3",
   "metadata": {},
   "source": [
    "No this is not unimodal."
   ]
  },
  {
   "cell_type": "markdown",
   "id": "b39c18cd",
   "metadata": {},
   "source": [
    "27. What are the top 5 countries in terms of internet use in 2014?"
   ]
  },
  {
   "cell_type": "code",
   "execution_count": 40,
   "id": "748cba80",
   "metadata": {},
   "outputs": [
    {
     "data": {
      "text/html": [
       "<div>\n",
       "<style scoped>\n",
       "    .dataframe tbody tr th:only-of-type {\n",
       "        vertical-align: middle;\n",
       "    }\n",
       "\n",
       "    .dataframe tbody tr th {\n",
       "        vertical-align: top;\n",
       "    }\n",
       "\n",
       "    .dataframe thead th {\n",
       "        text-align: right;\n",
       "    }\n",
       "</style>\n",
       "<table border=\"1\" class=\"dataframe\">\n",
       "  <thead>\n",
       "    <tr style=\"text-align: right;\">\n",
       "      <th></th>\n",
       "      <th>Country</th>\n",
       "      <th>Year</th>\n",
       "      <th>GDP_Per_Capita</th>\n",
       "      <th>Internet_Users_Pct</th>\n",
       "    </tr>\n",
       "  </thead>\n",
       "  <tbody>\n",
       "    <tr>\n",
       "      <th>2625</th>\n",
       "      <td>Iceland</td>\n",
       "      <td>2014</td>\n",
       "      <td>49652.149500</td>\n",
       "      <td>98.16</td>\n",
       "    </tr>\n",
       "    <tr>\n",
       "      <th>561</th>\n",
       "      <td>Bermuda</td>\n",
       "      <td>2014</td>\n",
       "      <td>77361.104881</td>\n",
       "      <td>96.80</td>\n",
       "    </tr>\n",
       "    <tr>\n",
       "      <th>4648</th>\n",
       "      <td>Norway</td>\n",
       "      <td>2014</td>\n",
       "      <td>62589.373548</td>\n",
       "      <td>96.30</td>\n",
       "    </tr>\n",
       "    <tr>\n",
       "      <th>1452</th>\n",
       "      <td>Denmark</td>\n",
       "      <td>2014</td>\n",
       "      <td>52214.537753</td>\n",
       "      <td>95.99</td>\n",
       "    </tr>\n",
       "    <tr>\n",
       "      <th>6873</th>\n",
       "      <td>Andorra</td>\n",
       "      <td>2014</td>\n",
       "      <td>NaN</td>\n",
       "      <td>95.90</td>\n",
       "    </tr>\n",
       "  </tbody>\n",
       "</table>\n",
       "</div>"
      ],
      "text/plain": [
       "      Country  Year  GDP_Per_Capita  Internet_Users_Pct\n",
       "2625  Iceland  2014    49652.149500               98.16\n",
       "561   Bermuda  2014    77361.104881               96.80\n",
       "4648   Norway  2014    62589.373548               96.30\n",
       "1452  Denmark  2014    52214.537753               95.99\n",
       "6873  Andorra  2014             NaN               95.90"
      ]
     },
     "execution_count": 40,
     "metadata": {},
     "output_type": "execute_result"
    }
   ],
   "source": [
    "t5_int_use_14 = gdp_internet_14.nlargest(5, \"Internet_Users_Pct\")\n",
    "t5_int_use_14"
   ]
  },
  {
   "cell_type": "markdown",
   "id": "ac732c0e",
   "metadata": {},
   "source": [
    "Iceland, Bermuda, Norway, Denmark, Andorra\n",
    "It's the same code as question 18 to get this answer."
   ]
  },
  {
   "cell_type": "markdown",
   "id": "3460479b",
   "metadata": {},
   "source": [
    "28. Create a DataFrame called top_5_internet from the combined DataFrame that has all three years for the 5 countries that had the greatest 2014 internet usage. You should have 15 rows. Check that this is true."
   ]
  },
  {
   "cell_type": "code",
   "execution_count": 41,
   "id": "fb446705",
   "metadata": {},
   "outputs": [
    {
     "name": "stdout",
     "output_type": "stream",
     "text": [
      "['Iceland', 'Bermuda', 'Norway', 'Denmark', 'Andorra']\n"
     ]
    }
   ],
   "source": [
    "top_internet_countries = t5_int_use_14.Country.tolist()\n",
    "print(top_internet_countries)"
   ]
  },
  {
   "cell_type": "code",
   "execution_count": 42,
   "id": "593b18ed",
   "metadata": {
    "scrolled": true
   },
   "outputs": [
    {
     "name": "stdout",
     "output_type": "stream",
     "text": [
      "      Country  Year  GDP_Per_Capita  Internet_Users_Pct\n",
      "561   Bermuda  2014    77361.104881           96.800000\n",
      "566   Bermuda  2009    89961.982744           83.250000\n",
      "571   Bermuda  2004    90195.811033           60.990867\n",
      "1452  Denmark  2014    52214.537753           95.990000\n",
      "1457  Denmark  2009    50274.075696           86.840000\n",
      "1462  Denmark  2004    50607.628971           80.930000\n",
      "2625  Iceland  2014    49652.149500           98.160000\n",
      "2630  Iceland  2009    48177.084123           93.000000\n",
      "2635  Iceland  2004    45145.545658           83.880000\n",
      "4648   Norway  2014    62589.373548           96.300000\n",
      "4653   Norway  2009    61886.564498           92.080000\n",
      "4658   Norway  2004    60893.410993           77.690000\n",
      "6873  Andorra  2014             NaN           95.900000\n",
      "6878  Andorra  2009             NaN           78.530000\n",
      "6883  Andorra  2004             NaN           26.837954\n"
     ]
    }
   ],
   "source": [
    "top_5_internet = years_df[years_df.Country.isin(top_internet_countries)]\n",
    "print(top_5_internet)"
   ]
  },
  {
   "cell_type": "code",
   "execution_count": 43,
   "id": "a7c6354f",
   "metadata": {},
   "outputs": [
    {
     "name": "stdout",
     "output_type": "stream",
     "text": [
      "      Country  Year  GDP_Per_Capita  Internet_Users_Pct\n",
      "561   Bermuda  2014    77361.104881           96.800000\n",
      "566   Bermuda  2009    89961.982744           83.250000\n",
      "571   Bermuda  2004    90195.811033           60.990867\n",
      "1452  Denmark  2014    52214.537753           95.990000\n",
      "1457  Denmark  2009    50274.075696           86.840000\n",
      "1462  Denmark  2004    50607.628971           80.930000\n",
      "2625  Iceland  2014    49652.149500           98.160000\n",
      "2630  Iceland  2009    48177.084123           93.000000\n",
      "2635  Iceland  2004    45145.545658           83.880000\n",
      "4648   Norway  2014    62589.373548           96.300000\n",
      "4653   Norway  2009    61886.564498           92.080000\n",
      "4658   Norway  2004    60893.410993           77.690000\n",
      "6873  Andorra  2014             NaN           95.900000\n",
      "6878  Andorra  2009             NaN           78.530000\n",
      "6883  Andorra  2004             NaN           26.837954\n"
     ]
    }
   ],
   "source": [
    "print(top_5_internet)"
   ]
  },
  {
   "cell_type": "markdown",
   "id": "8d5182c1",
   "metadata": {},
   "source": [
    "29. Create a seaborn FacetGrid to show the internet usage trend across the years 2004, 2009, and 2014 for these 5 countries (those with the highest reported internet use in 2014). Which country had the greatest growth between 2004 and 2014?"
   ]
  },
  {
   "cell_type": "code",
   "execution_count": 44,
   "id": "047bed6e",
   "metadata": {},
   "outputs": [
    {
     "data": {
      "text/plain": [
       "<seaborn.axisgrid.FacetGrid at 0x180a0edf550>"
      ]
     },
     "execution_count": 44,
     "metadata": {},
     "output_type": "execute_result"
    },
    {
     "data": {
      "image/png": "[encoded data removed]",
      "text/plain": [
       "<Figure size 1088x216 with 5 Axes>"
      ]
     },
     "metadata": {
      "needs_background": "light"
     },
     "output_type": "display_data"
    }
   ],
   "source": [
    "g = sns.FacetGrid(top_5_internet, col='Country')\n",
    "g.map_dataframe(sns.lineplot, x='Year', y=\"Internet_Users_Pct\").add_legend()"
   ]
  },
  {
   "cell_type": "markdown",
   "id": "95aff252",
   "metadata": {},
   "source": [
    "Answer: Andorra"
   ]
  },
  {
   "cell_type": "markdown",
   "id": "19499023",
   "metadata": {},
   "source": [
    "30. Repeat the steps above to look at the trend for the 5 countries with the lowest 2014 internet usage. Which country has consistently had the least internet use?"
   ]
  },
  {
   "cell_type": "code",
   "execution_count": 45,
   "id": "8d90f81b",
   "metadata": {},
   "outputs": [
    {
     "data": {
      "text/html": [
       "<div>\n",
       "<style scoped>\n",
       "    .dataframe tbody tr th:only-of-type {\n",
       "        vertical-align: middle;\n",
       "    }\n",
       "\n",
       "    .dataframe tbody tr th {\n",
       "        vertical-align: top;\n",
       "    }\n",
       "\n",
       "    .dataframe thead th {\n",
       "        text-align: right;\n",
       "    }\n",
       "</style>\n",
       "<table border=\"1\" class=\"dataframe\">\n",
       "  <thead>\n",
       "    <tr style=\"text-align: right;\">\n",
       "      <th></th>\n",
       "      <th>Country</th>\n",
       "      <th>Year</th>\n",
       "      <th>GDP_Per_Capita</th>\n",
       "      <th>Internet_Users_Pct</th>\n",
       "    </tr>\n",
       "  </thead>\n",
       "  <tbody>\n",
       "    <tr>\n",
       "      <th>2625</th>\n",
       "      <td>Iceland</td>\n",
       "      <td>2014</td>\n",
       "      <td>49652.149500</td>\n",
       "      <td>98.16</td>\n",
       "    </tr>\n",
       "    <tr>\n",
       "      <th>561</th>\n",
       "      <td>Bermuda</td>\n",
       "      <td>2014</td>\n",
       "      <td>77361.104881</td>\n",
       "      <td>96.80</td>\n",
       "    </tr>\n",
       "    <tr>\n",
       "      <th>4648</th>\n",
       "      <td>Norway</td>\n",
       "      <td>2014</td>\n",
       "      <td>62589.373548</td>\n",
       "      <td>96.30</td>\n",
       "    </tr>\n",
       "    <tr>\n",
       "      <th>1452</th>\n",
       "      <td>Denmark</td>\n",
       "      <td>2014</td>\n",
       "      <td>52214.537753</td>\n",
       "      <td>95.99</td>\n",
       "    </tr>\n",
       "    <tr>\n",
       "      <th>6873</th>\n",
       "      <td>Andorra</td>\n",
       "      <td>2014</td>\n",
       "      <td>NaN</td>\n",
       "      <td>95.90</td>\n",
       "    </tr>\n",
       "  </tbody>\n",
       "</table>\n",
       "</div>"
      ],
      "text/plain": [
       "      Country  Year  GDP_Per_Capita  Internet_Users_Pct\n",
       "2625  Iceland  2014    49652.149500               98.16\n",
       "561   Bermuda  2014    77361.104881               96.80\n",
       "4648   Norway  2014    62589.373548               96.30\n",
       "1452  Denmark  2014    52214.537753               95.99\n",
       "6873  Andorra  2014             NaN               95.90"
      ]
     },
     "execution_count": 45,
     "metadata": {},
     "output_type": "execute_result"
    }
   ],
   "source": [
    "b5_int_use_14 = gdp_internet_14.nsmallest(5, \"Internet_Users_Pct\")\n",
    "t5_int_use_14"
   ]
  },
  {
   "cell_type": "code",
   "execution_count": 46,
   "id": "0e5f66cd",
   "metadata": {},
   "outputs": [
    {
     "name": "stdout",
     "output_type": "stream",
     "text": [
      "[\"Dem. People's Rep. of Korea\", 'Eritrea', 'Timor-Leste', 'Burundi', 'Somalia']\n"
     ]
    }
   ],
   "source": [
    "bottom_int_countries = b5_int_use_14.Country.tolist()\n",
    "print(bottom_int_countries)"
   ]
  },
  {
   "cell_type": "code",
   "execution_count": 47,
   "id": "9b9e4d08",
   "metadata": {},
   "outputs": [
    {
     "name": "stdout",
     "output_type": "stream",
     "text": [
      "      Country  Year  GDP_Per_Capita  Internet_Users_Pct\n",
      "561   Bermuda  2014    77361.104881           96.800000\n",
      "566   Bermuda  2009    89961.982744           83.250000\n",
      "571   Bermuda  2004    90195.811033           60.990867\n",
      "1452  Denmark  2014    52214.537753           95.990000\n",
      "1457  Denmark  2009    50274.075696           86.840000\n",
      "1462  Denmark  2004    50607.628971           80.930000\n",
      "2625  Iceland  2014    49652.149500           98.160000\n",
      "2630  Iceland  2009    48177.084123           93.000000\n",
      "2635  Iceland  2004    45145.545658           83.880000\n",
      "4648   Norway  2014    62589.373548           96.300000\n",
      "4653   Norway  2009    61886.564498           92.080000\n",
      "4658   Norway  2004    60893.410993           77.690000\n",
      "6873  Andorra  2014             NaN           95.900000\n",
      "6878  Andorra  2009             NaN           78.530000\n",
      "6883  Andorra  2004             NaN           26.837954\n"
     ]
    }
   ],
   "source": [
    "bottom_5_internet = years_df[years_df.Country.isin(bottom_int_countries)]\n",
    "print(top_5_internet)"
   ]
  },
  {
   "cell_type": "code",
   "execution_count": 48,
   "id": "878be10e",
   "metadata": {},
   "outputs": [
    {
     "data": {
      "text/plain": [
       "<seaborn.axisgrid.FacetGrid at 0x180a11bf550>"
      ]
     },
     "execution_count": 48,
     "metadata": {},
     "output_type": "execute_result"
    },
    {
     "data": {
      "image/png": "[encoded data removed]",
      "text/plain": [
       "<Figure size 1088x216 with 5 Axes>"
      ]
     },
     "metadata": {
      "needs_background": "light"
     },
     "output_type": "display_data"
    }
   ],
   "source": [
    "g = sns.FacetGrid(bottom_5_internet, col='Country')\n",
    "g.map_dataframe(sns.lineplot, x='Year', y=\"Internet_Users_Pct\").add_legend()                                                "
   ]
  },
  {
   "cell_type": "markdown",
   "id": "56c1f5e0",
   "metadata": {},
   "source": [
    "Dem. People's Rep. of Korea"
   ]
  },
  {
   "cell_type": "markdown",
   "id": "23a63882",
   "metadata": {},
   "source": [
    "31. Find the top 5 countries for 2014 in terms of GDP per capita; create a DataFrame to look at 10-year trends (use 2004, 2009, 2014 to look at the 10-year trend) in gdp per capita for the 5 countries with the highest 2014 GDP per capita. Use a seaborn facet grid for this."
   ]
  },
  {
   "cell_type": "code",
   "execution_count": 49,
   "id": "d7ac0ece",
   "metadata": {},
   "outputs": [
    {
     "name": "stdout",
     "output_type": "stream",
     "text": [
      "               Country  Year  GDP_Per_Capita  Internet_Users_Pct\n",
      "3721  Macao SAR, China  2014   156514.133850                 NaN\n",
      "3691        Luxembourg  2014   108760.916030               94.67\n",
      "5138             Qatar  2014    95578.416973               91.49\n",
      "5464         Singapore  2014    87808.663157               82.00\n",
      "561            Bermuda  2014    77361.104881               96.80\n"
     ]
    }
   ],
   "source": [
    "t5_gdp_14 = gdp_internet_14.nlargest(5, \"GDP_Per_Capita\")\n",
    "print(t5_gdp_14)"
   ]
  },
  {
   "cell_type": "code",
   "execution_count": 52,
   "id": "c1f3be73",
   "metadata": {},
   "outputs": [
    {
     "name": "stdout",
     "output_type": "stream",
     "text": [
      "['Macao SAR, China', 'Luxembourg', 'Qatar', 'Singapore', 'Bermuda']\n"
     ]
    }
   ],
   "source": [
    "top_gdp_countries = t5_gdp_14.Country.tolist()\n",
    "print(top_gdp_countries)"
   ]
  },
  {
   "cell_type": "code",
   "execution_count": 53,
   "id": "7a5e08ee",
   "metadata": {},
   "outputs": [
    {
     "name": "stdout",
     "output_type": "stream",
     "text": [
      "               Country  Year  GDP_Per_Capita  Internet_Users_Pct\n",
      "561            Bermuda  2014    77361.104881           96.800000\n",
      "566            Bermuda  2009    89961.982744           83.250000\n",
      "571            Bermuda  2004    90195.811033           60.990867\n",
      "3691        Luxembourg  2014   108760.916030           94.670000\n",
      "3696        Luxembourg  2009   104932.811953           87.310000\n",
      "3701        Luxembourg  2004   102708.212547           65.880000\n",
      "3721  Macao SAR, China  2014   156514.133850                 NaN\n",
      "3726  Macao SAR, China  2009    95939.340822                 NaN\n",
      "3731  Macao SAR, China  2004    72944.409424                 NaN\n",
      "5138             Qatar  2014    95578.416973           91.490000\n",
      "5143             Qatar  2009    89954.519993           53.100000\n",
      "5148             Qatar  2004    93748.301216           20.701648\n",
      "5464         Singapore  2014    87808.663157           82.000000\n",
      "5469         Singapore  2009    69466.581746           69.000000\n",
      "5474         Singapore  2004    63901.716368           62.000000\n"
     ]
    }
   ],
   "source": [
    "top_5_gdp = years_df[years_df.Country.isin(top_gdp_countries)]\n",
    "print(top_5_gdp)"
   ]
  },
  {
   "cell_type": "code",
   "execution_count": 54,
   "id": "e6af2655",
   "metadata": {},
   "outputs": [
    {
     "data": {
      "image/png": "[encoded data removed]",
      "text/plain": [
       "<Figure size 1080x216 with 5 Axes>"
      ]
     },
     "metadata": {
      "needs_background": "light"
     },
     "output_type": "display_data"
    }
   ],
   "source": [
    "  fg = sns.FacetGrid(top_5_gdp, col = \"Country\")\n",
    "\n",
    "fg.map(plt.plot, \"Year\", \"GDP_Per_Capita\")\n",
    "fg.set_axis_labels(\"Year\", \"GDP per Cap\")\n",
    "fg.set_titles(col_template = \"{col_name}\");                                          "
   ]
  },
  {
   "cell_type": "markdown",
   "id": "18180dd2",
   "metadata": {},
   "source": [
    "32. Repeat this one more time to look at 10-year trend for the 5 countries for 2014 with the lowest GDP per capita."
   ]
  },
  {
   "cell_type": "code",
   "execution_count": 55,
   "id": "c085f900",
   "metadata": {},
   "outputs": [
    {
     "name": "stdout",
     "output_type": "stream",
     "text": [
      "                       Country  Year  GDP_Per_Capita  Internet_Users_Pct\n",
      "1047  Central African Republic  2014      822.610458                 NaN\n",
      "827                    Burundi  2014      886.235777                1.38\n",
      "3781                    Malawi  2014     1027.208496                5.83\n",
      "1422           Dem. Rep. Congo  2014     1029.790785                 NaN\n",
      "4528                     Niger  2014     1127.615541                1.95\n"
     ]
    }
   ],
   "source": [
    "b5_gdp_14 = gdp_internet_14.nsmallest(5, \"GDP_Per_Capita\")\n",
    "print(b5_gdp_14)                                             "
   ]
  },
  {
   "cell_type": "code",
   "execution_count": 56,
   "id": "89120f0b",
   "metadata": {},
   "outputs": [
    {
     "name": "stdout",
     "output_type": "stream",
     "text": [
      "['Central African Republic', 'Burundi', 'Malawi', 'Dem. Rep. Congo', 'Niger']\n"
     ]
    }
   ],
   "source": [
    "bottom_gdp_countries = b5_gdp_14.Country.tolist()\n",
    "print(bottom_gdp_countries)"
   ]
  },
  {
   "cell_type": "code",
   "execution_count": 57,
   "id": "38de96b8",
   "metadata": {},
   "outputs": [
    {
     "name": "stdout",
     "output_type": "stream",
     "text": [
      "     Country Year  GDP_Per_Capita  Internet_Users_Pct\n",
      "5        NaN  NaN             NaN                 NaN\n",
      "10       NaN  NaN             NaN                 NaN\n",
      "15       NaN  NaN             NaN                 NaN\n",
      "23       NaN  NaN             NaN                 NaN\n",
      "28       NaN  NaN             NaN                 NaN\n",
      "...      ...  ...             ...                 ...\n",
      "7870     NaN  NaN             NaN                 NaN\n",
      "7875     NaN  NaN             NaN                 NaN\n",
      "7887     NaN  NaN             NaN                 NaN\n",
      "7892     NaN  NaN             NaN                 NaN\n",
      "7897     NaN  NaN             NaN                 NaN\n",
      "\n",
      "[830 rows x 4 columns]\n"
     ]
    }
   ],
   "source": [
    "bottom_5_gdp = years_df[years_df.isin(bottom_gdp_countries)]\n",
    "print(bottom_5_gdp)"
   ]
  },
  {
   "cell_type": "code",
   "execution_count": 58,
   "id": "0e5d5b48",
   "metadata": {},
   "outputs": [
    {
     "data": {
      "image/png": "[encoded data removed]",
      "text/plain": [
       "<Figure size 1080x216 with 5 Axes>"
      ]
     },
     "metadata": {
      "needs_background": "light"
     },
     "output_type": "display_data"
    }
   ],
   "source": [
    "fg = sns.FacetGrid(bottom_5_gdp, col = \"Country\")\n",
    "\n",
    "fg.map(plt.plot, \"Year\", \"GDP_Per_Capita\")\n",
    "fg.set_axis_labels(\"Year\", \"GDP per Cap\")\n",
    "fg.set_titles(col_template = \"{col_name}\");"
   ]
  },
  {
   "cell_type": "markdown",
   "id": "88529a75",
   "metadata": {},
   "source": [
    "33. Is there anything surprising or unusual in any of these plots? Searching on the internet, can you find any possible explanations for unusual findings?"
   ]
  },
  {
   "cell_type": "markdown",
   "id": "e859cecf",
   "metadata": {},
   "source": [
    "Yes, All the lineplots appear to be empty. The civil war in the Central African Republic could be the explanation for thier unusal findings. Multiple political issuses could be the reason for the DRC. Also ther are NaN values for these countries in the data."
   ]
  },
  {
   "cell_type": "markdown",
   "id": "454aac49",
   "metadata": {},
   "source": [
    "Bonus Exercise:"
   ]
  },
  {
   "cell_type": "markdown",
   "id": "54a2aa2a",
   "metadata": {},
   "source": [
    "1. Download another data set from the UN data (http://data.un.org/Explorer.aspx) to merge with your data and explore"
   ]
  },
  {
   "cell_type": "code",
   "execution_count": 59,
   "id": "58001873",
   "metadata": {},
   "outputs": [],
   "source": [
    "marital_df = pd.read_excel(\"../data/UN_Marital_Status.xls\",skiprows = 3)"
   ]
  },
  {
   "cell_type": "code",
   "execution_count": 60,
   "id": "bac92a7c",
   "metadata": {},
   "outputs": [
    {
     "data": {
      "text/html": [
       "<div>\n",
       "<style scoped>\n",
       "    .dataframe tbody tr th:only-of-type {\n",
       "        vertical-align: middle;\n",
       "    }\n",
       "\n",
       "    .dataframe tbody tr th {\n",
       "        vertical-align: top;\n",
       "    }\n",
       "\n",
       "    .dataframe thead th {\n",
       "        text-align: right;\n",
       "    }\n",
       "</style>\n",
       "<table border=\"1\" class=\"dataframe\">\n",
       "  <thead>\n",
       "    <tr style=\"text-align: right;\">\n",
       "      <th></th>\n",
       "      <th>Country</th>\n",
       "      <th>ISO code</th>\n",
       "      <th>Period</th>\n",
       "      <th>Year</th>\n",
       "      <th>Sex</th>\n",
       "      <th>Marital status</th>\n",
       "      <th>Non-standard age groups</th>\n",
       "      <th>15-19</th>\n",
       "      <th>20-24</th>\n",
       "      <th>25-29</th>\n",
       "      <th>...</th>\n",
       "      <th>65+</th>\n",
       "      <th>Source type</th>\n",
       "      <th>Source</th>\n",
       "      <th>Survey Name</th>\n",
       "      <th>Note on non-standard age groups</th>\n",
       "      <th>Note on marital status</th>\n",
       "      <th>Note on country or population</th>\n",
       "      <th>Note on data source</th>\n",
       "      <th>Note on age</th>\n",
       "      <th>Unnamed: 26</th>\n",
       "    </tr>\n",
       "  </thead>\n",
       "  <tbody>\n",
       "    <tr>\n",
       "      <th>0</th>\n",
       "      <td>Afghanistan</td>\n",
       "      <td>4</td>\n",
       "      <td>Around 1970</td>\n",
       "      <td>1973</td>\n",
       "      <td>Men</td>\n",
       "      <td>Single</td>\n",
       "      <td>NaN</td>\n",
       "      <td>92.2</td>\n",
       "      <td>67.3</td>\n",
       "      <td>38.5</td>\n",
       "      <td>...</td>\n",
       "      <td>1.6</td>\n",
       "      <td>Survey</td>\n",
       "      <td>National statistics</td>\n",
       "      <td>Afghanistan 1972-1974 National Demographic and...</td>\n",
       "      <td>NaN</td>\n",
       "      <td>NaN</td>\n",
       "      <td>NaN</td>\n",
       "      <td>NaN</td>\n",
       "      <td>NaN</td>\n",
       "      <td>NaN</td>\n",
       "    </tr>\n",
       "    <tr>\n",
       "      <th>1</th>\n",
       "      <td>Afghanistan</td>\n",
       "      <td>4</td>\n",
       "      <td>Around 1970</td>\n",
       "      <td>1973</td>\n",
       "      <td>Men</td>\n",
       "      <td>Married</td>\n",
       "      <td>NaN</td>\n",
       "      <td>7.6</td>\n",
       "      <td>31.9</td>\n",
       "      <td>59.1</td>\n",
       "      <td>...</td>\n",
       "      <td>78.3</td>\n",
       "      <td>Survey</td>\n",
       "      <td>National statistics</td>\n",
       "      <td>Afghanistan 1972-1974 National Demographic and...</td>\n",
       "      <td>NaN</td>\n",
       "      <td>NaN</td>\n",
       "      <td>NaN</td>\n",
       "      <td>NaN</td>\n",
       "      <td>NaN</td>\n",
       "      <td>NaN</td>\n",
       "    </tr>\n",
       "    <tr>\n",
       "      <th>2</th>\n",
       "      <td>Afghanistan</td>\n",
       "      <td>4</td>\n",
       "      <td>Around 1970</td>\n",
       "      <td>1973</td>\n",
       "      <td>Men</td>\n",
       "      <td>Widowed</td>\n",
       "      <td>NaN</td>\n",
       "      <td>0.1</td>\n",
       "      <td>0.7</td>\n",
       "      <td>2.3</td>\n",
       "      <td>...</td>\n",
       "      <td>19.9</td>\n",
       "      <td>Survey</td>\n",
       "      <td>National statistics</td>\n",
       "      <td>Afghanistan 1972-1974 National Demographic and...</td>\n",
       "      <td>NaN</td>\n",
       "      <td>NaN</td>\n",
       "      <td>NaN</td>\n",
       "      <td>NaN</td>\n",
       "      <td>NaN</td>\n",
       "      <td>NaN</td>\n",
       "    </tr>\n",
       "    <tr>\n",
       "      <th>3</th>\n",
       "      <td>Afghanistan</td>\n",
       "      <td>4</td>\n",
       "      <td>Around 1970</td>\n",
       "      <td>1973</td>\n",
       "      <td>Men</td>\n",
       "      <td>Divorced</td>\n",
       "      <td>NaN</td>\n",
       "      <td>0.0</td>\n",
       "      <td>0.0</td>\n",
       "      <td>0.0</td>\n",
       "      <td>...</td>\n",
       "      <td>0.1</td>\n",
       "      <td>Survey</td>\n",
       "      <td>National statistics</td>\n",
       "      <td>Afghanistan 1972-1974 National Demographic and...</td>\n",
       "      <td>NaN</td>\n",
       "      <td>NaN</td>\n",
       "      <td>NaN</td>\n",
       "      <td>NaN</td>\n",
       "      <td>NaN</td>\n",
       "      <td>NaN</td>\n",
       "    </tr>\n",
       "    <tr>\n",
       "      <th>4</th>\n",
       "      <td>Afghanistan</td>\n",
       "      <td>4</td>\n",
       "      <td>Around 1970</td>\n",
       "      <td>1973</td>\n",
       "      <td>Women</td>\n",
       "      <td>Single</td>\n",
       "      <td>NaN</td>\n",
       "      <td>49.5</td>\n",
       "      <td>11.9</td>\n",
       "      <td>3.7</td>\n",
       "      <td>...</td>\n",
       "      <td>2.5</td>\n",
       "      <td>Survey</td>\n",
       "      <td>National statistics</td>\n",
       "      <td>Afghanistan 1972-1974 National Demographic and...</td>\n",
       "      <td>NaN</td>\n",
       "      <td>NaN</td>\n",
       "      <td>NaN</td>\n",
       "      <td>NaN</td>\n",
       "      <td>NaN</td>\n",
       "      <td>NaN</td>\n",
       "    </tr>\n",
       "  </tbody>\n",
       "</table>\n",
       "<p>5 rows × 27 columns</p>\n",
       "</div>"
      ],
      "text/plain": [
       "       Country  ISO code       Period  Year    Sex Marital status  \\\n",
       "0  Afghanistan         4  Around 1970  1973    Men         Single   \n",
       "1  Afghanistan         4  Around 1970  1973    Men        Married   \n",
       "2  Afghanistan         4  Around 1970  1973    Men        Widowed   \n",
       "3  Afghanistan         4  Around 1970  1973    Men       Divorced   \n",
       "4  Afghanistan         4  Around 1970  1973  Women         Single   \n",
       "\n",
       "  Non-standard age groups  15-19  20-24  25-29  ...   65+  Source type  \\\n",
       "0                     NaN   92.2   67.3   38.5  ...   1.6       Survey   \n",
       "1                     NaN    7.6   31.9   59.1  ...  78.3       Survey   \n",
       "2                     NaN    0.1    0.7    2.3  ...  19.9       Survey   \n",
       "3                     NaN    0.0    0.0    0.0  ...   0.1       Survey   \n",
       "4                     NaN   49.5   11.9    3.7  ...   2.5       Survey   \n",
       "\n",
       "                Source                                        Survey Name  \\\n",
       "0  National statistics  Afghanistan 1972-1974 National Demographic and...   \n",
       "1  National statistics  Afghanistan 1972-1974 National Demographic and...   \n",
       "2  National statistics  Afghanistan 1972-1974 National Demographic and...   \n",
       "3  National statistics  Afghanistan 1972-1974 National Demographic and...   \n",
       "4  National statistics  Afghanistan 1972-1974 National Demographic and...   \n",
       "\n",
       "   Note on non-standard age groups  Note on marital status  \\\n",
       "0                              NaN                     NaN   \n",
       "1                              NaN                     NaN   \n",
       "2                              NaN                     NaN   \n",
       "3                              NaN                     NaN   \n",
       "4                              NaN                     NaN   \n",
       "\n",
       "   Note on country or population  Note on data source Note on age  Unnamed: 26  \n",
       "0                            NaN                  NaN          NaN         NaN  \n",
       "1                            NaN                  NaN          NaN         NaN  \n",
       "2                            NaN                  NaN          NaN         NaN  \n",
       "3                            NaN                  NaN          NaN         NaN  \n",
       "4                            NaN                  NaN          NaN         NaN  \n",
       "\n",
       "[5 rows x 27 columns]"
      ]
     },
     "execution_count": 60,
     "metadata": {},
     "output_type": "execute_result"
    }
   ],
   "source": [
    "marital_df.head()"
   ]
  },
  {
   "cell_type": "code",
   "execution_count": 61,
   "id": "79462b09",
   "metadata": {},
   "outputs": [
    {
     "data": {
      "text/html": [
       "<div>\n",
       "<style scoped>\n",
       "    .dataframe tbody tr th:only-of-type {\n",
       "        vertical-align: middle;\n",
       "    }\n",
       "\n",
       "    .dataframe tbody tr th {\n",
       "        vertical-align: top;\n",
       "    }\n",
       "\n",
       "    .dataframe thead th {\n",
       "        text-align: right;\n",
       "    }\n",
       "</style>\n",
       "<table border=\"1\" class=\"dataframe\">\n",
       "  <thead>\n",
       "    <tr style=\"text-align: right;\">\n",
       "      <th></th>\n",
       "      <th>Country</th>\n",
       "      <th>ISO code</th>\n",
       "      <th>Period</th>\n",
       "      <th>Year</th>\n",
       "      <th>Sex</th>\n",
       "      <th>Marital status</th>\n",
       "      <th>Non-standard age groups</th>\n",
       "      <th>15-19</th>\n",
       "      <th>20-24</th>\n",
       "      <th>25-29</th>\n",
       "      <th>...</th>\n",
       "      <th>65+</th>\n",
       "      <th>Source type</th>\n",
       "      <th>Source</th>\n",
       "      <th>Survey Name</th>\n",
       "      <th>Note on non-standard age groups</th>\n",
       "      <th>Note on marital status</th>\n",
       "      <th>Note on country or population</th>\n",
       "      <th>Note on data source</th>\n",
       "      <th>Note on age</th>\n",
       "      <th>Unnamed: 26</th>\n",
       "    </tr>\n",
       "  </thead>\n",
       "  <tbody>\n",
       "    <tr>\n",
       "      <th>8129</th>\n",
       "      <td>Zimbabwe</td>\n",
       "      <td>716</td>\n",
       "      <td>Latest</td>\n",
       "      <td>2010</td>\n",
       "      <td>Women</td>\n",
       "      <td>Married</td>\n",
       "      <td>NaN</td>\n",
       "      <td>21.7</td>\n",
       "      <td>63.1</td>\n",
       "      <td>74.8</td>\n",
       "      <td>...</td>\n",
       "      <td>NaN</td>\n",
       "      <td>Survey</td>\n",
       "      <td>DHS</td>\n",
       "      <td>Zimbabwe 2010-2011 Demographic and Health Survey</td>\n",
       "      <td>NaN</td>\n",
       "      <td>NaN</td>\n",
       "      <td>NaN</td>\n",
       "      <td>NaN</td>\n",
       "      <td>NaN</td>\n",
       "      <td>NaN</td>\n",
       "    </tr>\n",
       "    <tr>\n",
       "      <th>8130</th>\n",
       "      <td>Zimbabwe</td>\n",
       "      <td>716</td>\n",
       "      <td>Latest</td>\n",
       "      <td>2010</td>\n",
       "      <td>Women</td>\n",
       "      <td>Consensual union</td>\n",
       "      <td>NaN</td>\n",
       "      <td>1.5</td>\n",
       "      <td>2.7</td>\n",
       "      <td>4.0</td>\n",
       "      <td>...</td>\n",
       "      <td>NaN</td>\n",
       "      <td>Survey</td>\n",
       "      <td>DHS</td>\n",
       "      <td>Zimbabwe 2010-2011 Demographic and Health Survey</td>\n",
       "      <td>NaN</td>\n",
       "      <td>NaN</td>\n",
       "      <td>NaN</td>\n",
       "      <td>NaN</td>\n",
       "      <td>NaN</td>\n",
       "      <td>NaN</td>\n",
       "    </tr>\n",
       "    <tr>\n",
       "      <th>8131</th>\n",
       "      <td>Zimbabwe</td>\n",
       "      <td>716</td>\n",
       "      <td>Latest</td>\n",
       "      <td>2010</td>\n",
       "      <td>Women</td>\n",
       "      <td>Widowed</td>\n",
       "      <td>NaN</td>\n",
       "      <td>0.0</td>\n",
       "      <td>0.8</td>\n",
       "      <td>2.1</td>\n",
       "      <td>...</td>\n",
       "      <td>NaN</td>\n",
       "      <td>Survey</td>\n",
       "      <td>DHS</td>\n",
       "      <td>Zimbabwe 2010-2011 Demographic and Health Survey</td>\n",
       "      <td>NaN</td>\n",
       "      <td>NaN</td>\n",
       "      <td>NaN</td>\n",
       "      <td>NaN</td>\n",
       "      <td>NaN</td>\n",
       "      <td>NaN</td>\n",
       "    </tr>\n",
       "    <tr>\n",
       "      <th>8132</th>\n",
       "      <td>Zimbabwe</td>\n",
       "      <td>716</td>\n",
       "      <td>Latest</td>\n",
       "      <td>2010</td>\n",
       "      <td>Women</td>\n",
       "      <td>Divorced</td>\n",
       "      <td>NaN</td>\n",
       "      <td>1.0</td>\n",
       "      <td>3.5</td>\n",
       "      <td>4.2</td>\n",
       "      <td>...</td>\n",
       "      <td>NaN</td>\n",
       "      <td>Survey</td>\n",
       "      <td>DHS</td>\n",
       "      <td>Zimbabwe 2010-2011 Demographic and Health Survey</td>\n",
       "      <td>NaN</td>\n",
       "      <td>NaN</td>\n",
       "      <td>NaN</td>\n",
       "      <td>NaN</td>\n",
       "      <td>NaN</td>\n",
       "      <td>NaN</td>\n",
       "    </tr>\n",
       "    <tr>\n",
       "      <th>8133</th>\n",
       "      <td>Zimbabwe</td>\n",
       "      <td>716</td>\n",
       "      <td>Latest</td>\n",
       "      <td>2010</td>\n",
       "      <td>Women</td>\n",
       "      <td>Separated</td>\n",
       "      <td>NaN</td>\n",
       "      <td>1.7</td>\n",
       "      <td>4.9</td>\n",
       "      <td>5.4</td>\n",
       "      <td>...</td>\n",
       "      <td>NaN</td>\n",
       "      <td>Survey</td>\n",
       "      <td>DHS</td>\n",
       "      <td>Zimbabwe 2010-2011 Demographic and Health Survey</td>\n",
       "      <td>NaN</td>\n",
       "      <td>NaN</td>\n",
       "      <td>NaN</td>\n",
       "      <td>NaN</td>\n",
       "      <td>NaN</td>\n",
       "      <td>NaN</td>\n",
       "    </tr>\n",
       "  </tbody>\n",
       "</table>\n",
       "<p>5 rows × 27 columns</p>\n",
       "</div>"
      ],
      "text/plain": [
       "       Country  ISO code  Period  Year    Sex    Marital status  \\\n",
       "8129  Zimbabwe       716  Latest  2010  Women           Married   \n",
       "8130  Zimbabwe       716  Latest  2010  Women  Consensual union   \n",
       "8131  Zimbabwe       716  Latest  2010  Women           Widowed   \n",
       "8132  Zimbabwe       716  Latest  2010  Women          Divorced   \n",
       "8133  Zimbabwe       716  Latest  2010  Women         Separated   \n",
       "\n",
       "     Non-standard age groups  15-19  20-24  25-29  ...  65+  Source type  \\\n",
       "8129                     NaN   21.7   63.1   74.8  ...  NaN       Survey   \n",
       "8130                     NaN    1.5    2.7    4.0  ...  NaN       Survey   \n",
       "8131                     NaN    0.0    0.8    2.1  ...  NaN       Survey   \n",
       "8132                     NaN    1.0    3.5    4.2  ...  NaN       Survey   \n",
       "8133                     NaN    1.7    4.9    5.4  ...  NaN       Survey   \n",
       "\n",
       "      Source                                       Survey Name  \\\n",
       "8129     DHS  Zimbabwe 2010-2011 Demographic and Health Survey   \n",
       "8130     DHS  Zimbabwe 2010-2011 Demographic and Health Survey   \n",
       "8131     DHS  Zimbabwe 2010-2011 Demographic and Health Survey   \n",
       "8132     DHS  Zimbabwe 2010-2011 Demographic and Health Survey   \n",
       "8133     DHS  Zimbabwe 2010-2011 Demographic and Health Survey   \n",
       "\n",
       "      Note on non-standard age groups  Note on marital status  \\\n",
       "8129                              NaN                     NaN   \n",
       "8130                              NaN                     NaN   \n",
       "8131                              NaN                     NaN   \n",
       "8132                              NaN                     NaN   \n",
       "8133                              NaN                     NaN   \n",
       "\n",
       "      Note on country or population  Note on data source Note on age   \\\n",
       "8129                            NaN                  NaN          NaN   \n",
       "8130                            NaN                  NaN          NaN   \n",
       "8131                            NaN                  NaN          NaN   \n",
       "8132                            NaN                  NaN          NaN   \n",
       "8133                            NaN                  NaN          NaN   \n",
       "\n",
       "     Unnamed: 26  \n",
       "8129         NaN  \n",
       "8130         NaN  \n",
       "8131         NaN  \n",
       "8132         NaN  \n",
       "8133         NaN  \n",
       "\n",
       "[5 rows x 27 columns]"
      ]
     },
     "execution_count": 61,
     "metadata": {},
     "output_type": "execute_result"
    }
   ],
   "source": [
    "marital_df.tail()"
   ]
  },
  {
   "cell_type": "code",
   "execution_count": 62,
   "id": "d204eae7",
   "metadata": {},
   "outputs": [
    {
     "name": "stdout",
     "output_type": "stream",
     "text": [
      "          Country  ISO code       Period  Year    Sex    Marital status  \\\n",
      "0     Afghanistan         4  Around 1970  1973    Men            Single   \n",
      "1     Afghanistan         4  Around 1970  1973    Men           Married   \n",
      "2     Afghanistan         4  Around 1970  1973    Men           Widowed   \n",
      "3     Afghanistan         4  Around 1970  1973    Men          Divorced   \n",
      "4     Afghanistan         4  Around 1970  1973  Women            Single   \n",
      "...           ...       ...          ...   ...    ...               ...   \n",
      "8129     Zimbabwe       716       Latest  2010  Women           Married   \n",
      "8130     Zimbabwe       716       Latest  2010  Women  Consensual union   \n",
      "8131     Zimbabwe       716       Latest  2010  Women           Widowed   \n",
      "8132     Zimbabwe       716       Latest  2010  Women          Divorced   \n",
      "8133     Zimbabwe       716       Latest  2010  Women         Separated   \n",
      "\n",
      "     Non-standard age groups  15-19  20-24  25-29  ...   65+  Source type  \\\n",
      "0                        NaN   92.2   67.3   38.5  ...   1.6       Survey   \n",
      "1                        NaN    7.6   31.9   59.1  ...  78.3       Survey   \n",
      "2                        NaN    0.1    0.7    2.3  ...  19.9       Survey   \n",
      "3                        NaN    0.0    0.0    0.0  ...   0.1       Survey   \n",
      "4                        NaN   49.5   11.9    3.7  ...   2.5       Survey   \n",
      "...                      ...    ...    ...    ...  ...   ...          ...   \n",
      "8129                     NaN   21.7   63.1   74.8  ...   NaN       Survey   \n",
      "8130                     NaN    1.5    2.7    4.0  ...   NaN       Survey   \n",
      "8131                     NaN    0.0    0.8    2.1  ...   NaN       Survey   \n",
      "8132                     NaN    1.0    3.5    4.2  ...   NaN       Survey   \n",
      "8133                     NaN    1.7    4.9    5.4  ...   NaN       Survey   \n",
      "\n",
      "                   Source                                        Survey Name  \\\n",
      "0     National statistics  Afghanistan 1972-1974 National Demographic and...   \n",
      "1     National statistics  Afghanistan 1972-1974 National Demographic and...   \n",
      "2     National statistics  Afghanistan 1972-1974 National Demographic and...   \n",
      "3     National statistics  Afghanistan 1972-1974 National Demographic and...   \n",
      "4     National statistics  Afghanistan 1972-1974 National Demographic and...   \n",
      "...                   ...                                                ...   \n",
      "8129                  DHS   Zimbabwe 2010-2011 Demographic and Health Survey   \n",
      "8130                  DHS   Zimbabwe 2010-2011 Demographic and Health Survey   \n",
      "8131                  DHS   Zimbabwe 2010-2011 Demographic and Health Survey   \n",
      "8132                  DHS   Zimbabwe 2010-2011 Demographic and Health Survey   \n",
      "8133                  DHS   Zimbabwe 2010-2011 Demographic and Health Survey   \n",
      "\n",
      "      Note on non-standard age groups  Note on marital status  \\\n",
      "0                                 NaN                     NaN   \n",
      "1                                 NaN                     NaN   \n",
      "2                                 NaN                     NaN   \n",
      "3                                 NaN                     NaN   \n",
      "4                                 NaN                     NaN   \n",
      "...                               ...                     ...   \n",
      "8129                              NaN                     NaN   \n",
      "8130                              NaN                     NaN   \n",
      "8131                              NaN                     NaN   \n",
      "8132                              NaN                     NaN   \n",
      "8133                              NaN                     NaN   \n",
      "\n",
      "      Note on country or population  Note on data source Note on age   \\\n",
      "0                               NaN                  NaN          NaN   \n",
      "1                               NaN                  NaN          NaN   \n",
      "2                               NaN                  NaN          NaN   \n",
      "3                               NaN                  NaN          NaN   \n",
      "4                               NaN                  NaN          NaN   \n",
      "...                             ...                  ...          ...   \n",
      "8129                            NaN                  NaN          NaN   \n",
      "8130                            NaN                  NaN          NaN   \n",
      "8131                            NaN                  NaN          NaN   \n",
      "8132                            NaN                  NaN          NaN   \n",
      "8133                            NaN                  NaN          NaN   \n",
      "\n",
      "     Unnamed: 26  \n",
      "0            NaN  \n",
      "1            NaN  \n",
      "2            NaN  \n",
      "3            NaN  \n",
      "4            NaN  \n",
      "...          ...  \n",
      "8129         NaN  \n",
      "8130         NaN  \n",
      "8131         NaN  \n",
      "8132         NaN  \n",
      "8133         NaN  \n",
      "\n",
      "[8134 rows x 27 columns]\n"
     ]
    }
   ],
   "source": [
    "print(marital_df[:])"
   ]
  },
  {
   "cell_type": "code",
   "execution_count": 63,
   "id": "ca31c1d8",
   "metadata": {},
   "outputs": [
    {
     "name": "stdout",
     "output_type": "stream",
     "text": [
      "Country                             object\n",
      "ISO code                             int64\n",
      "Period                              object\n",
      "Year                                 int64\n",
      "Sex                                 object\n",
      "Marital status                      object\n",
      "Non-standard age groups             object\n",
      "15-19                              float64\n",
      "20-24                              float64\n",
      "25-29                              float64\n",
      "30-34                              float64\n",
      "35-39                              float64\n",
      "40-44                              float64\n",
      "45-49                              float64\n",
      "50-54                              float64\n",
      "55-59                              float64\n",
      "60-64                              float64\n",
      "65+                                float64\n",
      "Source type                         object\n",
      "Source                              object\n",
      "Survey Name                         object\n",
      "Note on non-standard age groups     object\n",
      "Note on marital status              object\n",
      "Note on country or population       object\n",
      "Note on data source                 object\n",
      "Note on age                         object\n",
      "Unnamed: 26                        float64\n",
      "dtype: object\n"
     ]
    }
   ],
   "source": [
    "print(marital_df.dtypes)"
   ]
  },
  {
   "cell_type": "code",
   "execution_count": 64,
   "id": "8335be46",
   "metadata": {
    "scrolled": true
   },
   "outputs": [
    {
     "name": "stdout",
     "output_type": "stream",
     "text": [
      "<class 'pandas.core.frame.DataFrame'>\n",
      "RangeIndex: 8134 entries, 0 to 8133\n",
      "Data columns (total 27 columns):\n",
      " #   Column                           Non-Null Count  Dtype  \n",
      "---  ------                           --------------  -----  \n",
      " 0   Country                          8134 non-null   object \n",
      " 1   ISO code                         8134 non-null   int64  \n",
      " 2   Period                           8134 non-null   object \n",
      " 3   Year                             8134 non-null   int64  \n",
      " 4   Sex                              8134 non-null   object \n",
      " 5   Marital status                   8134 non-null   object \n",
      " 6   Non-standard age groups          918 non-null    object \n",
      " 7   15-19                            8060 non-null   float64\n",
      " 8   20-24                            8100 non-null   float64\n",
      " 9   25-29                            8070 non-null   float64\n",
      " 10  30-34                            8080 non-null   float64\n",
      " 11  35-39                            8048 non-null   float64\n",
      " 12  40-44                            7996 non-null   float64\n",
      " 13  45-49                            8008 non-null   float64\n",
      " 14  50-54                            7077 non-null   float64\n",
      " 15  55-59                            7010 non-null   float64\n",
      " 16  60-64                            6666 non-null   float64\n",
      " 17  65+                              6350 non-null   float64\n",
      " 18  Source type                      8134 non-null   object \n",
      " 19  Source                           8134 non-null   object \n",
      " 20  Survey Name                      1608 non-null   object \n",
      " 21  Note on non-standard age groups  928 non-null    object \n",
      " 22  Note on marital status           46 non-null     object \n",
      " 23  Note on country or population    717 non-null    object \n",
      " 24  Note on data source              569 non-null    object \n",
      " 25  Note on age                      56 non-null     object \n",
      " 26  Unnamed: 26                      0 non-null      float64\n",
      "dtypes: float64(12), int64(2), object(13)\n",
      "memory usage: 1.7+ MB\n"
     ]
    }
   ],
   "source": [
    "marital_df.info()"
   ]
  },
  {
   "cell_type": "markdown",
   "id": "8fe8e473",
   "metadata": {},
   "source": [
    "Now we will merge the marital status data with the Internet and GDP data. "
   ]
  },
  {
   "cell_type": "markdown",
   "id": "d729d7f7",
   "metadata": {},
   "source": [
    "Country and Year in marital_df will need to be objects(dtype) in order to complete a sucessful merge."
   ]
  },
  {
   "cell_type": "code",
   "execution_count": 65,
   "id": "14b90121",
   "metadata": {},
   "outputs": [
    {
     "data": {
      "text/plain": [
       "0       1973\n",
       "1       1973\n",
       "2       1973\n",
       "3       1973\n",
       "4       1973\n",
       "        ... \n",
       "8129    2010\n",
       "8130    2010\n",
       "8131    2010\n",
       "8132    2010\n",
       "8133    2010\n",
       "Name: Year, Length: 8134, dtype: object"
      ]
     },
     "execution_count": 65,
     "metadata": {},
     "output_type": "execute_result"
    }
   ],
   "source": [
    "marital_df['Year'].astype(object)"
   ]
  },
  {
   "cell_type": "code",
   "execution_count": null,
   "id": "85953427",
   "metadata": {},
   "outputs": [],
   "source": [
    "gdp_internet_and_marriage = pd.merge(gdp_and_internet_use, marital_df, on=['Country', 'Year'],how='outer')"
   ]
  },
  {
   "cell_type": "code",
   "execution_count": null,
   "id": "42e5544d",
   "metadata": {},
   "outputs": [],
   "source": []
  }
 ],
 "metadata": {
  "kernelspec": {
   "display_name": "Python 3 (ipykernel)",
   "language": "python",
   "name": "python3"
  },
  "language_info": {
   "codemirror_mode": {
    "name": "ipython",
    "version": 3
   },
   "file_extension": ".py",
   "mimetype": "text/x-python",
   "name": "python",
   "nbconvert_exporter": "python",
   "pygments_lexer": "ipython3",
   "version": "3.9.7"
  }
 },
 "nbformat": 4,
 "nbformat_minor": 5
}
