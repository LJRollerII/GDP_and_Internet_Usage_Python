{
 "cells": [
  {
   "cell_type": "code",
   "execution_count": 1,
   "id": "1cf75003",
   "metadata": {},
   "outputs": [],
   "source": [
    "import pandas as pd\n",
    "import numpy as np\n",
    "import matplotlib.pyplot as plt\n",
    "import seaborn as sns"
   ]
  },
  {
   "cell_type": "code",
   "execution_count": 2,
   "id": "bcc55283",
   "metadata": {},
   "outputs": [],
   "source": [
    "%matplotlib inline"
   ]
  },
  {
   "cell_type": "code",
   "execution_count": 3,
   "id": "9978cf47",
   "metadata": {},
   "outputs": [],
   "source": [
    "gdp_df = pd.read_csv(\"../data/UNdata_gdp.csv\")"
   ]
  },
  {
   "cell_type": "code",
   "execution_count": 4,
   "id": "04563e1e",
   "metadata": {},
   "outputs": [
    {
     "data": {
      "text/html": [
       "<div>\n",
       "<style scoped>\n",
       "    .dataframe tbody tr th:only-of-type {\n",
       "        vertical-align: middle;\n",
       "    }\n",
       "\n",
       "    .dataframe tbody tr th {\n",
       "        vertical-align: top;\n",
       "    }\n",
       "\n",
       "    .dataframe thead th {\n",
       "        text-align: right;\n",
       "    }\n",
       "</style>\n",
       "<table border=\"1\" class=\"dataframe\">\n",
       "  <thead>\n",
       "    <tr style=\"text-align: right;\">\n",
       "      <th></th>\n",
       "      <th>Country or Area</th>\n",
       "      <th>Year</th>\n",
       "      <th>Value</th>\n",
       "      <th>Value Footnotes</th>\n",
       "    </tr>\n",
       "  </thead>\n",
       "  <tbody>\n",
       "    <tr>\n",
       "      <th>0</th>\n",
       "      <td>Afghanistan</td>\n",
       "      <td>2019</td>\n",
       "      <td>2065.036398</td>\n",
       "      <td>NaN</td>\n",
       "    </tr>\n",
       "    <tr>\n",
       "      <th>1</th>\n",
       "      <td>Afghanistan</td>\n",
       "      <td>2018</td>\n",
       "      <td>2033.779002</td>\n",
       "      <td>NaN</td>\n",
       "    </tr>\n",
       "    <tr>\n",
       "      <th>2</th>\n",
       "      <td>Afghanistan</td>\n",
       "      <td>2017</td>\n",
       "      <td>2058.383832</td>\n",
       "      <td>NaN</td>\n",
       "    </tr>\n",
       "    <tr>\n",
       "      <th>3</th>\n",
       "      <td>Afghanistan</td>\n",
       "      <td>2016</td>\n",
       "      <td>2057.062164</td>\n",
       "      <td>NaN</td>\n",
       "    </tr>\n",
       "    <tr>\n",
       "      <th>4</th>\n",
       "      <td>Afghanistan</td>\n",
       "      <td>2015</td>\n",
       "      <td>2068.265904</td>\n",
       "      <td>NaN</td>\n",
       "    </tr>\n",
       "  </tbody>\n",
       "</table>\n",
       "</div>"
      ],
      "text/plain": [
       "  Country or Area  Year        Value  Value Footnotes\n",
       "0     Afghanistan  2019  2065.036398              NaN\n",
       "1     Afghanistan  2018  2033.779002              NaN\n",
       "2     Afghanistan  2017  2058.383832              NaN\n",
       "3     Afghanistan  2016  2057.062164              NaN\n",
       "4     Afghanistan  2015  2068.265904              NaN"
      ]
     },
     "execution_count": 4,
     "metadata": {},
     "output_type": "execute_result"
    }
   ],
   "source": [
    "gdp_df.head()"
   ]
  },
  {
   "cell_type": "code",
   "execution_count": 5,
   "id": "8c5f5e10",
   "metadata": {},
   "outputs": [],
   "source": [
    "internet_df = pd.read_csv(\"../data/UNdata_internet.csv\",nrows=4496)"
   ]
  },
  {
   "cell_type": "markdown",
   "id": "02860e12",
   "metadata": {},
   "source": [
    "7. Look at the shape of each DataFrame - how many rows? How many columns?"
   ]
  },
  {
   "cell_type": "code",
   "execution_count": 6,
   "id": "a4db8fbe",
   "metadata": {},
   "outputs": [
    {
     "name": "stdout",
     "output_type": "stream",
     "text": [
      "     Country or Area                                      Year        Value  \\\n",
      "0        Afghanistan                                      2019  2065.036398   \n",
      "1        Afghanistan                                      2018  2033.779002   \n",
      "2        Afghanistan                                      2017  2058.383832   \n",
      "3        Afghanistan                                      2016  2057.062164   \n",
      "4        Afghanistan                                      2015  2068.265904   \n",
      "...              ...                                       ...          ...   \n",
      "6865        Zimbabwe                                      1992  3054.889178   \n",
      "6866        Zimbabwe                                      1991  3426.598094   \n",
      "6867        Zimbabwe                                      1990  3324.348171   \n",
      "6868   footnoteSeqID                                  Footnote          NaN   \n",
      "6869               2  Excludes South Sudan after July 9, 2011.          NaN   \n",
      "\n",
      "      Value Footnotes  \n",
      "0                 NaN  \n",
      "1                 NaN  \n",
      "2                 NaN  \n",
      "3                 NaN  \n",
      "4                 NaN  \n",
      "...               ...  \n",
      "6865              NaN  \n",
      "6866              NaN  \n",
      "6867              NaN  \n",
      "6868              NaN  \n",
      "6869              NaN  \n",
      "\n",
      "[6870 rows x 4 columns]\n"
     ]
    }
   ],
   "source": [
    "print(gdp_df[:])"
   ]
  },
  {
   "cell_type": "markdown",
   "id": "6fa296d0",
   "metadata": {},
   "source": [
    "Answer: 6870 rows & 4 columns"
   ]
  },
  {
   "cell_type": "code",
   "execution_count": 7,
   "id": "98f15652",
   "metadata": {},
   "outputs": [
    {
     "name": "stdout",
     "output_type": "stream",
     "text": [
      "     Country or Area      Year     Value  Value Footnotes\n",
      "0        Afghanistan      2014  6.390000              NaN\n",
      "1        Afghanistan      2013  5.900000              NaN\n",
      "2        Afghanistan      2012  5.454545              NaN\n",
      "3        Afghanistan      2011  5.000000              NaN\n",
      "4        Afghanistan      2010  4.000000              NaN\n",
      "...              ...       ...       ...              ...\n",
      "4491        Zimbabwe      1996  0.016790              NaN\n",
      "4492        Zimbabwe      1995  0.007684              NaN\n",
      "4493        Zimbabwe      1994  0.001739              NaN\n",
      "4494        Zimbabwe      1990  0.000000              NaN\n",
      "4495   footnoteSeqID  Footnote       NaN              NaN\n",
      "\n",
      "[4496 rows x 4 columns]\n"
     ]
    }
   ],
   "source": [
    "print(internet_df[:])"
   ]
  },
  {
   "cell_type": "markdown",
   "id": "75a7b834",
   "metadata": {},
   "source": [
    "Answer: 4496 rows & 4 columns"
   ]
  },
  {
   "cell_type": "markdown",
   "id": "901d192a",
   "metadata": {},
   "source": [
    "8. Take a look at the datatypes for the columns in each DataFrame."
   ]
  },
  {
   "cell_type": "code",
   "execution_count": 8,
   "id": "baef8330",
   "metadata": {},
   "outputs": [
    {
     "name": "stdout",
     "output_type": "stream",
     "text": [
      "Country or Area     object\n",
      "Year                object\n",
      "Value              float64\n",
      "Value Footnotes    float64\n",
      "dtype: object\n"
     ]
    }
   ],
   "source": [
    "print(gdp_df.dtypes)"
   ]
  },
  {
   "cell_type": "code",
   "execution_count": 9,
   "id": "53748939",
   "metadata": {},
   "outputs": [
    {
     "name": "stdout",
     "output_type": "stream",
     "text": [
      "Country or Area     object\n",
      "Year                object\n",
      "Value              float64\n",
      "Value Footnotes    float64\n",
      "dtype: object\n"
     ]
    }
   ],
   "source": [
    "print(internet_df.dtypes)"
   ]
  },
  {
   "cell_type": "markdown",
   "id": "fdf9833c",
   "metadata": {},
   "source": [
    "9.Take a look at the last 10 rows of each DataFrame in turn."
   ]
  },
  {
   "cell_type": "code",
   "execution_count": 10,
   "id": "75b00ad5",
   "metadata": {},
   "outputs": [
    {
     "name": "stdout",
     "output_type": "stream",
     "text": [
      "     Country or Area                                      Year        Value  \\\n",
      "6860        Zimbabwe                                      1997  3580.048793   \n",
      "6861        Zimbabwe                                      1996  3520.430146   \n",
      "6862        Zimbabwe                                      1995  3226.413930   \n",
      "6863        Zimbabwe                                      1994  3263.934978   \n",
      "6864        Zimbabwe                                      1993  3033.504852   \n",
      "6865        Zimbabwe                                      1992  3054.889178   \n",
      "6866        Zimbabwe                                      1991  3426.598094   \n",
      "6867        Zimbabwe                                      1990  3324.348171   \n",
      "6868   footnoteSeqID                                  Footnote          NaN   \n",
      "6869               2  Excludes South Sudan after July 9, 2011.          NaN   \n",
      "\n",
      "      Value Footnotes  \n",
      "6860              NaN  \n",
      "6861              NaN  \n",
      "6862              NaN  \n",
      "6863              NaN  \n",
      "6864              NaN  \n",
      "6865              NaN  \n",
      "6866              NaN  \n",
      "6867              NaN  \n",
      "6868              NaN  \n",
      "6869              NaN  \n"
     ]
    }
   ],
   "source": [
    "print(gdp_df[-10: ])"
   ]
  },
  {
   "cell_type": "code",
   "execution_count": 11,
   "id": "10affd04",
   "metadata": {},
   "outputs": [
    {
     "name": "stdout",
     "output_type": "stream",
     "text": [
      "     Country or Area      Year     Value  Value Footnotes\n",
      "4486        Zimbabwe      2001  0.799846              NaN\n",
      "4487        Zimbabwe      2000  0.401434              NaN\n",
      "4488        Zimbabwe      1999  0.161676              NaN\n",
      "4489        Zimbabwe      1998  0.081648              NaN\n",
      "4490        Zimbabwe      1997  0.033080              NaN\n",
      "4491        Zimbabwe      1996  0.016790              NaN\n",
      "4492        Zimbabwe      1995  0.007684              NaN\n",
      "4493        Zimbabwe      1994  0.001739              NaN\n",
      "4494        Zimbabwe      1990  0.000000              NaN\n",
      "4495   footnoteSeqID  Footnote       NaN              NaN\n"
     ]
    }
   ],
   "source": [
    "print(internet_df[-10: ])"
   ]
  },
  {
   "cell_type": "markdown",
   "id": "876a3870",
   "metadata": {},
   "source": [
    "10. Drop the value footnotes column from both DataFrames. Check that this worked as expected."
   ]
  },
  {
   "cell_type": "code",
   "execution_count": 12,
   "id": "9855740c",
   "metadata": {},
   "outputs": [],
   "source": [
    "gdp_df = gdp_df.drop(columns=['Value Footnotes'])\n",
    "\n",
    "\n"
   ]
  },
  {
   "cell_type": "code",
   "execution_count": 13,
   "id": "fce45d11",
   "metadata": {},
   "outputs": [
    {
     "data": {
      "text/plain": [
       "<bound method DataFrame.info of      Country or Area                                      Year        Value\n",
       "0        Afghanistan                                      2019  2065.036398\n",
       "1        Afghanistan                                      2018  2033.779002\n",
       "2        Afghanistan                                      2017  2058.383832\n",
       "3        Afghanistan                                      2016  2057.062164\n",
       "4        Afghanistan                                      2015  2068.265904\n",
       "...              ...                                       ...          ...\n",
       "6865        Zimbabwe                                      1992  3054.889178\n",
       "6866        Zimbabwe                                      1991  3426.598094\n",
       "6867        Zimbabwe                                      1990  3324.348171\n",
       "6868   footnoteSeqID                                  Footnote          NaN\n",
       "6869               2  Excludes South Sudan after July 9, 2011.          NaN\n",
       "\n",
       "[6870 rows x 3 columns]>"
      ]
     },
     "execution_count": 13,
     "metadata": {},
     "output_type": "execute_result"
    }
   ],
   "source": [
    "gdp_df.info"
   ]
  },
  {
   "cell_type": "code",
   "execution_count": 14,
   "id": "7859c298",
   "metadata": {},
   "outputs": [],
   "source": [
    "internet_df = internet_df.drop(columns=['Value Footnotes'])"
   ]
  },
  {
   "cell_type": "code",
   "execution_count": 15,
   "id": "5d5e0501",
   "metadata": {},
   "outputs": [
    {
     "name": "stdout",
     "output_type": "stream",
     "text": [
      "<class 'pandas.core.frame.DataFrame'>\n",
      "RangeIndex: 4496 entries, 0 to 4495\n",
      "Data columns (total 3 columns):\n",
      " #   Column           Non-Null Count  Dtype  \n",
      "---  ------           --------------  -----  \n",
      " 0   Country or Area  4496 non-null   object \n",
      " 1   Year             4496 non-null   object \n",
      " 2   Value            4495 non-null   float64\n",
      "dtypes: float64(1), object(2)\n",
      "memory usage: 105.5+ KB\n"
     ]
    }
   ],
   "source": [
    "internet_df.info()"
   ]
  },
  {
   "cell_type": "markdown",
   "id": "b5fe37a5",
   "metadata": {},
   "source": [
    "11. Change the columns for the GDP Per Capita DataFrame to ‘Country’, ‘Year’, and ‘GDP_Per_Capita’."
   ]
  },
  {
   "cell_type": "code",
   "execution_count": 16,
   "id": "e87e0adf",
   "metadata": {},
   "outputs": [],
   "source": [
    "gdp_df = gdp_df.rename(columns={'Country or Area': 'Country', 'Year':'Year', 'Value': 'GDP_Per_Capita'})"
   ]
  },
  {
   "cell_type": "code",
   "execution_count": 17,
   "id": "f73271f0",
   "metadata": {},
   "outputs": [
    {
     "name": "stdout",
     "output_type": "stream",
     "text": [
      "<class 'pandas.core.frame.DataFrame'>\n",
      "RangeIndex: 6870 entries, 0 to 6869\n",
      "Data columns (total 3 columns):\n",
      " #   Column          Non-Null Count  Dtype  \n",
      "---  ------          --------------  -----  \n",
      " 0   Country         6870 non-null   object \n",
      " 1   Year            6870 non-null   object \n",
      " 2   GDP_Per_Capita  6868 non-null   float64\n",
      "dtypes: float64(1), object(2)\n",
      "memory usage: 161.1+ KB\n"
     ]
    }
   ],
   "source": [
    "gdp_df.info()"
   ]
  },
  {
   "cell_type": "markdown",
   "id": "74cd8110",
   "metadata": {},
   "source": [
    "12. Change the columns for the Internet Users DataFrame to ‘Country’, ‘Year’, and ‘Internet_Users_Pct’."
   ]
  },
  {
   "cell_type": "code",
   "execution_count": 18,
   "id": "1b7a6a7f",
   "metadata": {},
   "outputs": [],
   "source": [
    "internet_df = internet_df.rename(columns={'Country or Area': 'Country', 'Year':'Year', 'Value': 'Internet_Users_Pct'})"
   ]
  },
  {
   "cell_type": "code",
   "execution_count": 19,
   "id": "8b2b06f6",
   "metadata": {},
   "outputs": [
    {
     "name": "stdout",
     "output_type": "stream",
     "text": [
      "<class 'pandas.core.frame.DataFrame'>\n",
      "RangeIndex: 4496 entries, 0 to 4495\n",
      "Data columns (total 3 columns):\n",
      " #   Column              Non-Null Count  Dtype  \n",
      "---  ------              --------------  -----  \n",
      " 0   Country             4496 non-null   object \n",
      " 1   Year                4496 non-null   object \n",
      " 2   Internet_Users_Pct  4495 non-null   float64\n",
      "dtypes: float64(1), object(2)\n",
      "memory usage: 105.5+ KB\n"
     ]
    }
   ],
   "source": [
    "internet_df.info()"
   ]
  },
  {
   "cell_type": "markdown",
   "id": "e1f8e413",
   "metadata": {},
   "source": [
    "13.Merge the two DataFrames to one. Merge all rows from each of the two DataFrames. Call the new DataFrame gdp_and_internet_use."
   ]
  },
  {
   "cell_type": "code",
   "execution_count": 21,
   "id": "e9a9125a",
   "metadata": {},
   "outputs": [],
   "source": [
    "gdp_and_internet_use = pd.merge(gdp_df,internet_df, on=['Country', 'Year'])"
   ]
  },
  {
   "cell_type": "markdown",
   "id": "ab06c14f",
   "metadata": {},
   "source": [
    "14. Look at the first five rows of your new DataFrame to confirm it merged correctly."
   ]
  },
  {
   "cell_type": "code",
   "execution_count": 22,
   "id": "77601849",
   "metadata": {},
   "outputs": [
    {
     "data": {
      "text/html": [
       "<div>\n",
       "<style scoped>\n",
       "    .dataframe tbody tr th:only-of-type {\n",
       "        vertical-align: middle;\n",
       "    }\n",
       "\n",
       "    .dataframe tbody tr th {\n",
       "        vertical-align: top;\n",
       "    }\n",
       "\n",
       "    .dataframe thead th {\n",
       "        text-align: right;\n",
       "    }\n",
       "</style>\n",
       "<table border=\"1\" class=\"dataframe\">\n",
       "  <thead>\n",
       "    <tr style=\"text-align: right;\">\n",
       "      <th></th>\n",
       "      <th>Country</th>\n",
       "      <th>Year</th>\n",
       "      <th>GDP_Per_Capita</th>\n",
       "      <th>Internet_Users_Pct</th>\n",
       "    </tr>\n",
       "  </thead>\n",
       "  <tbody>\n",
       "    <tr>\n",
       "      <th>0</th>\n",
       "      <td>Afghanistan</td>\n",
       "      <td>2014</td>\n",
       "      <td>2102.385234</td>\n",
       "      <td>6.390000</td>\n",
       "    </tr>\n",
       "    <tr>\n",
       "      <th>1</th>\n",
       "      <td>Afghanistan</td>\n",
       "      <td>2013</td>\n",
       "      <td>2116.465454</td>\n",
       "      <td>5.900000</td>\n",
       "    </tr>\n",
       "    <tr>\n",
       "      <th>2</th>\n",
       "      <td>Afghanistan</td>\n",
       "      <td>2012</td>\n",
       "      <td>2075.491747</td>\n",
       "      <td>5.454545</td>\n",
       "    </tr>\n",
       "    <tr>\n",
       "      <th>3</th>\n",
       "      <td>Afghanistan</td>\n",
       "      <td>2011</td>\n",
       "      <td>1904.559799</td>\n",
       "      <td>5.000000</td>\n",
       "    </tr>\n",
       "    <tr>\n",
       "      <th>4</th>\n",
       "      <td>Afghanistan</td>\n",
       "      <td>2010</td>\n",
       "      <td>1957.029338</td>\n",
       "      <td>4.000000</td>\n",
       "    </tr>\n",
       "  </tbody>\n",
       "</table>\n",
       "</div>"
      ],
      "text/plain": [
       "       Country  Year  GDP_Per_Capita  Internet_Users_Pct\n",
       "0  Afghanistan  2014     2102.385234            6.390000\n",
       "1  Afghanistan  2013     2116.465454            5.900000\n",
       "2  Afghanistan  2012     2075.491747            5.454545\n",
       "3  Afghanistan  2011     1904.559799            5.000000\n",
       "4  Afghanistan  2010     1957.029338            4.000000"
      ]
     },
     "execution_count": 22,
     "metadata": {},
     "output_type": "execute_result"
    }
   ],
   "source": [
    "gdp_and_internet_use.head()"
   ]
  },
  {
   "cell_type": "markdown",
   "id": "41c64909",
   "metadata": {},
   "source": [
    "15. Look at the last five rows to make sure the data is clean and as expected."
   ]
  },
  {
   "cell_type": "code",
   "execution_count": 23,
   "id": "b25e10b3",
   "metadata": {},
   "outputs": [
    {
     "data": {
      "text/html": [
       "<div>\n",
       "<style scoped>\n",
       "    .dataframe tbody tr th:only-of-type {\n",
       "        vertical-align: middle;\n",
       "    }\n",
       "\n",
       "    .dataframe tbody tr th {\n",
       "        vertical-align: top;\n",
       "    }\n",
       "\n",
       "    .dataframe thead th {\n",
       "        text-align: right;\n",
       "    }\n",
       "</style>\n",
       "<table border=\"1\" class=\"dataframe\">\n",
       "  <thead>\n",
       "    <tr style=\"text-align: right;\">\n",
       "      <th></th>\n",
       "      <th>Country</th>\n",
       "      <th>Year</th>\n",
       "      <th>GDP_Per_Capita</th>\n",
       "      <th>Internet_Users_Pct</th>\n",
       "    </tr>\n",
       "  </thead>\n",
       "  <tbody>\n",
       "    <tr>\n",
       "      <th>3454</th>\n",
       "      <td>Zimbabwe</td>\n",
       "      <td>1996</td>\n",
       "      <td>3520.430146</td>\n",
       "      <td>0.016790</td>\n",
       "    </tr>\n",
       "    <tr>\n",
       "      <th>3455</th>\n",
       "      <td>Zimbabwe</td>\n",
       "      <td>1995</td>\n",
       "      <td>3226.413930</td>\n",
       "      <td>0.007684</td>\n",
       "    </tr>\n",
       "    <tr>\n",
       "      <th>3456</th>\n",
       "      <td>Zimbabwe</td>\n",
       "      <td>1994</td>\n",
       "      <td>3263.934978</td>\n",
       "      <td>0.001739</td>\n",
       "    </tr>\n",
       "    <tr>\n",
       "      <th>3457</th>\n",
       "      <td>Zimbabwe</td>\n",
       "      <td>1990</td>\n",
       "      <td>3324.348171</td>\n",
       "      <td>0.000000</td>\n",
       "    </tr>\n",
       "    <tr>\n",
       "      <th>3458</th>\n",
       "      <td>footnoteSeqID</td>\n",
       "      <td>Footnote</td>\n",
       "      <td>NaN</td>\n",
       "      <td>NaN</td>\n",
       "    </tr>\n",
       "  </tbody>\n",
       "</table>\n",
       "</div>"
      ],
      "text/plain": [
       "            Country      Year  GDP_Per_Capita  Internet_Users_Pct\n",
       "3454       Zimbabwe      1996     3520.430146            0.016790\n",
       "3455       Zimbabwe      1995     3226.413930            0.007684\n",
       "3456       Zimbabwe      1994     3263.934978            0.001739\n",
       "3457       Zimbabwe      1990     3324.348171            0.000000\n",
       "3458  footnoteSeqID  Footnote             NaN                 NaN"
      ]
     },
     "execution_count": 23,
     "metadata": {},
     "output_type": "execute_result"
    }
   ],
   "source": [
    "gdp_and_internet_use.tail()"
   ]
  },
  {
   "cell_type": "markdown",
   "id": "4e3b09dd",
   "metadata": {},
   "source": [
    "16. Subset the combined DataFrame to keep only the data for 2004, 2009, and 2014. Check that this happened correctly."
   ]
  },
  {
   "cell_type": "code",
   "execution_count": 33,
   "id": "d8f853d2",
   "metadata": {},
   "outputs": [
    {
     "name": "stdout",
     "output_type": "stream",
     "text": [
      "          Country  Year  GDP_Per_Capita  Internet_Users_Pct\n",
      "0     Afghanistan  2014     2102.385234            6.390000\n",
      "5     Afghanistan  2009     1758.904043            3.550000\n",
      "10    Afghanistan  2004     1200.278256            0.105809\n",
      "13        Albania  2014    11623.866679           60.100000\n",
      "18        Albania  2009    10346.864199           41.200000\n",
      "...           ...   ...             ...                 ...\n",
      "3419       Zambia  2009     2917.516220            6.310000\n",
      "3424       Zambia  2004     2261.766537            2.013550\n",
      "3436     Zimbabwe  2014     2955.240287           19.890000\n",
      "3441     Zimbabwe  2009     1925.364381           11.360000\n",
      "3446     Zimbabwe  2004     2480.859342            6.564045\n",
      "\n",
      "[482 rows x 4 columns]\n"
     ]
    }
   ],
   "source": [
    "array = ['2004', '2009', '2014']\n",
    "print(gdp_and_internet_use.loc[gdp_and_internet_use['Year'].isin(array)])\n"
   ]
  },
  {
   "cell_type": "markdown",
   "id": "9fdd6d8e",
   "metadata": {},
   "source": [
    "17.Create three new DataFrames, one for 2004, one for 2009, and one for 2014. Give them meaningful names that aren't too long."
   ]
  },
  {
   "cell_type": "code",
   "execution_count": null,
   "id": "ce6bd2af",
   "metadata": {},
   "outputs": [],
   "source": []
  }
 ],
 "metadata": {
  "kernelspec": {
   "display_name": "Python 3 (ipykernel)",
   "language": "python",
   "name": "python3"
  },
  "language_info": {
   "codemirror_mode": {
    "name": "ipython",
    "version": 3
   },
   "file_extension": ".py",
   "mimetype": "text/x-python",
   "name": "python",
   "nbconvert_exporter": "python",
   "pygments_lexer": "ipython3",
   "version": "3.9.7"
  }
 },
 "nbformat": 4,
 "nbformat_minor": 5
}
